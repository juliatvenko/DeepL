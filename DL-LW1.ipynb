{
  "cells": [
    {
      "cell_type": "markdown",
      "metadata": {
        "id": "LBssvjIqhMoI"
      },
      "source": [
        "Підготувати середовище для виконання лабораторної роботи (локальне чи Colab)"
      ]
    },
    {
      "cell_type": "code",
      "execution_count": 7,
      "metadata": {
        "id": "kzAA-FN0gSXv"
      },
      "outputs": [],
      "source": [
        "import tensorflow as tf\n",
        "import matplotlib.pyplot as plt\n",
        "from sklearn.metrics import classification_report, confusion_matrix\n",
        "import numpy as np\n",
        "from keras.preprocessing import image\n",
        "import time"
      ]
    },
    {
      "cell_type": "code",
      "execution_count": 8,
      "metadata": {
        "colab": {
          "base_uri": "https://localhost:8080/"
        },
        "id": "ovdQlnffgkX1",
        "outputId": "d826f6d8-b70f-48ec-9418-964b18fa1d58"
      },
      "outputs": [
        {
          "data": {
            "text/plain": [
              "[PhysicalDevice(name='/physical_device:CPU:0', device_type='CPU')]"
            ]
          },
          "execution_count": 8,
          "metadata": {},
          "output_type": "execute_result"
        }
      ],
      "source": [
        "tf.config.list_physical_devices()"
      ]
    },
    {
      "cell_type": "markdown",
      "metadata": {
        "id": "686q4jZwhYu-"
      },
      "source": [
        "Завантажити дані для навчання (CIFAR10, див. методичні матеріали для готового фрагменту коду);"
      ]
    },
    {
      "cell_type": "code",
      "execution_count": 9,
      "metadata": {
        "colab": {
          "base_uri": "https://localhost:8080/"
        },
        "id": "qGesQMPJij0U",
        "outputId": "a22c910a-cb91-4203-d46b-1ef6d75e1f44"
      },
      "outputs": [],
      "source": [
        "(x_train, y_train), (x_test, y_test) = tf.keras.datasets.cifar10.load_data()"
      ]
    },
    {
      "cell_type": "code",
      "execution_count": 10,
      "metadata": {},
      "outputs": [],
      "source": [
        "x_train = x_train.astype('float') / 255\n",
        "x_test = x_test.astype('float') / 255"
      ]
    },
    {
      "cell_type": "markdown",
      "metadata": {},
      "source": [
        "Відображення від номера класу до його назви"
      ]
    },
    {
      "cell_type": "code",
      "execution_count": 11,
      "metadata": {},
      "outputs": [],
      "source": [
        "id2class = {\n",
        "    idx: name for idx, name in enumerate([\n",
        "        'airplane', 'automobile', 'bird',\n",
        "        'cat', 'deer', 'dog', 'frog',\n",
        "        'horse', 'ship', 'truck'\n",
        "    ])\n",
        "}"
      ]
    },
    {
      "cell_type": "markdown",
      "metadata": {},
      "source": [
        "Візуалізація зображень"
      ]
    },
    {
      "cell_type": "code",
      "execution_count": 12,
      "metadata": {},
      "outputs": [],
      "source": [
        "def display_cifar_images(\n",
        "    x: np.ndarray,\n",
        "    y: np.ndarray,\n",
        "    id2class: dict[int, str],\n",
        "    n: int = 4\n",
        "):\n",
        "    random_images_indices = np.random.randint(0, x.shape[0], n)\n",
        "    images = x[random_images_indices]\n",
        "    classes = [id2class[y[idx, 0]] for idx in random_images_indices]\n",
        "\n",
        "\n",
        "    f, axs = plt.subplots(1, n, figsize=((3*n, 3)))\n",
        "    for image, name, ax in zip(images, classes, axs):\n",
        "        ax.imshow(image)\n",
        "        ax.axis('off')\n",
        "        ax.set(title=f\"Class: {name}\")\n",
        "   \n",
        "    plt.show()"
      ]
    },
    {
      "cell_type": "code",
      "execution_count": 13,
      "metadata": {},
      "outputs": [
        {
          "data": {
            "image/png": "[encoded data removed]",
            "text/plain": [
              "<Figure size 864x216 with 4 Axes>"
            ]
          },
          "metadata": {
            "needs_background": "light"
          },
          "output_type": "display_data"
        }
      ],
      "source": [
        "display_cifar_images(x_train, y_train, id2class)"
      ]
    },
    {
      "cell_type": "markdown",
      "metadata": {
        "id": "1-O44d5_he5m"
      },
      "source": [
        "## Навчити повнозв’язну нейронну мережу із запропонованою архітектурою (приклад з методичних матеріалів) та налаштуваннями компіляції:"
      ]
    },
    {
      "cell_type": "markdown",
      "metadata": {
        "id": "EMDtqBBhhxgM"
      },
      "source": [
        "Навчити мережу не змінюючи гіперпараметрів, заданих у прикладі;"
      ]
    },
    {
      "cell_type": "markdown",
      "metadata": {
        "id": "39QO4BYAmw_T"
      },
      "source": [
        "Повнозв’язна мережа з Functional API"
      ]
    },
    {
      "cell_type": "code",
      "execution_count": 14,
      "metadata": {
        "id": "fm313yeRjBLU"
      },
      "outputs": [],
      "source": [
        "def construct_model(input_shape: tuple[int,...], dim_per_layer: list[int], n_classes: int) -> tf.keras.Model:\n",
        "    input_x = tf.keras.layers.Input(shape=input_shape)\n",
        "\n",
        "\n",
        "    x = tf.keras.layers.Flatten()(input_x)\n",
        "    for dim in dim_per_layer:\n",
        "        x = tf.keras.layers.Dense(dim, activation='relu')(x)\n",
        "\n",
        "    out_x = tf.keras.layers.Dense(n_classes)(x) # можна додати activation = 'softmax'\n",
        "\n",
        "\n",
        "    return tf.keras.Model(inputs=input_x, outputs=out_x)\n",
        "\n",
        "\n",
        "model1 = construct_model((32,32,3), dim_per_layer=[100, 100], n_classes=len(id2class))"
      ]
    },
    {
      "cell_type": "code",
      "execution_count": 15,
      "metadata": {
        "id": "4A_idzs1qVQz"
      },
      "outputs": [],
      "source": [
        "model1.compile(\n",
        "    optimizer=tf.keras.optimizers.SGD(learning_rate=1e-3, momentum=0.9),\n",
        "    # спарс версія оскільки y_train та y_test містять номери класів\n",
        "    loss=tf.keras.losses.SparseCategoricalCrossentropy(from_logits=True),\n",
        "    metrics=['accuracy']\n",
        ")\n"
      ]
    },
    {
      "cell_type": "code",
      "execution_count": 16,
      "metadata": {
        "colab": {
          "base_uri": "https://localhost:8080/"
        },
        "id": "kidm905gqZso",
        "outputId": "d9b6df90-8fdf-4035-bea3-123ae310dbd3"
      },
      "outputs": [
        {
          "name": "stdout",
          "output_type": "stream",
          "text": [
            "Epoch 1/100\n",
            "391/391 [==============================] - 3s 6ms/step - loss: 2.0308 - accuracy: 0.2697 - val_loss: 1.9186 - val_accuracy: 0.2995\n",
            "Epoch 2/100\n",
            "391/391 [==============================] - 2s 5ms/step - loss: 1.8485 - accuracy: 0.3470 - val_loss: 1.8122 - val_accuracy: 0.3674\n",
            "Epoch 3/100\n",
            "391/391 [==============================] - 2s 4ms/step - loss: 1.7847 - accuracy: 0.3715 - val_loss: 1.7647 - val_accuracy: 0.3685\n",
            "Epoch 4/100\n",
            "391/391 [==============================] - 2s 4ms/step - loss: 1.7327 - accuracy: 0.3916 - val_loss: 1.7098 - val_accuracy: 0.4016\n",
            "Epoch 5/100\n",
            "391/391 [==============================] - 2s 5ms/step - loss: 1.6951 - accuracy: 0.4047 - val_loss: 1.6870 - val_accuracy: 0.4077\n",
            "Epoch 6/100\n",
            "391/391 [==============================] - 2s 4ms/step - loss: 1.6641 - accuracy: 0.4173 - val_loss: 1.6490 - val_accuracy: 0.4200\n",
            "Epoch 7/100\n",
            "391/391 [==============================] - 2s 4ms/step - loss: 1.6394 - accuracy: 0.4248 - val_loss: 1.6254 - val_accuracy: 0.4274\n",
            "Epoch 8/100\n",
            "391/391 [==============================] - 2s 4ms/step - loss: 1.6154 - accuracy: 0.4335 - val_loss: 1.6128 - val_accuracy: 0.4360\n",
            "Epoch 9/100\n",
            "391/391 [==============================] - 2s 5ms/step - loss: 1.5930 - accuracy: 0.4383 - val_loss: 1.5949 - val_accuracy: 0.4371\n",
            "Epoch 10/100\n",
            "391/391 [==============================] - 2s 5ms/step - loss: 1.5730 - accuracy: 0.4491 - val_loss: 1.5708 - val_accuracy: 0.4458\n",
            "Epoch 11/100\n",
            "391/391 [==============================] - 2s 5ms/step - loss: 1.5607 - accuracy: 0.4514 - val_loss: 1.5627 - val_accuracy: 0.4491\n",
            "Epoch 12/100\n",
            "391/391 [==============================] - 2s 5ms/step - loss: 1.5411 - accuracy: 0.4606 - val_loss: 1.5690 - val_accuracy: 0.4510\n",
            "Epoch 13/100\n",
            "391/391 [==============================] - 4s 9ms/step - loss: 1.5250 - accuracy: 0.4671 - val_loss: 1.5375 - val_accuracy: 0.4633\n",
            "Epoch 14/100\n",
            "391/391 [==============================] - 4s 10ms/step - loss: 1.5112 - accuracy: 0.4710 - val_loss: 1.5326 - val_accuracy: 0.4663\n",
            "Epoch 15/100\n",
            "391/391 [==============================] - 4s 10ms/step - loss: 1.4990 - accuracy: 0.4739 - val_loss: 1.5183 - val_accuracy: 0.4699\n",
            "Epoch 16/100\n",
            "391/391 [==============================] - 4s 10ms/step - loss: 1.4883 - accuracy: 0.4814 - val_loss: 1.5097 - val_accuracy: 0.4666\n",
            "Epoch 17/100\n",
            "391/391 [==============================] - 4s 10ms/step - loss: 1.4780 - accuracy: 0.4835 - val_loss: 1.5021 - val_accuracy: 0.4710\n",
            "Epoch 18/100\n",
            "391/391 [==============================] - 4s 11ms/step - loss: 1.4660 - accuracy: 0.4895 - val_loss: 1.5098 - val_accuracy: 0.4678\n",
            "Epoch 19/100\n",
            "391/391 [==============================] - 4s 10ms/step - loss: 1.4543 - accuracy: 0.4905 - val_loss: 1.4936 - val_accuracy: 0.4772\n",
            "Epoch 20/100\n",
            "391/391 [==============================] - 4s 10ms/step - loss: 1.4429 - accuracy: 0.4934 - val_loss: 1.4795 - val_accuracy: 0.4760\n",
            "Epoch 21/100\n",
            "391/391 [==============================] - 4s 10ms/step - loss: 1.4350 - accuracy: 0.4977 - val_loss: 1.4765 - val_accuracy: 0.4810\n",
            "Epoch 22/100\n",
            "391/391 [==============================] - 4s 10ms/step - loss: 1.4254 - accuracy: 0.5015 - val_loss: 1.4648 - val_accuracy: 0.4870\n",
            "Epoch 23/100\n",
            "391/391 [==============================] - 4s 10ms/step - loss: 1.4118 - accuracy: 0.5050 - val_loss: 1.4580 - val_accuracy: 0.4842\n",
            "Epoch 24/100\n",
            "391/391 [==============================] - 4s 10ms/step - loss: 1.4076 - accuracy: 0.5060 - val_loss: 1.4558 - val_accuracy: 0.4860\n",
            "Epoch 25/100\n",
            "391/391 [==============================] - 4s 10ms/step - loss: 1.3981 - accuracy: 0.5112 - val_loss: 1.4836 - val_accuracy: 0.4791\n",
            "Epoch 26/100\n",
            "391/391 [==============================] - 4s 10ms/step - loss: 1.3889 - accuracy: 0.5137 - val_loss: 1.4671 - val_accuracy: 0.4779\n",
            "Epoch 27/100\n",
            "391/391 [==============================] - 4s 10ms/step - loss: 1.3795 - accuracy: 0.5155 - val_loss: 1.4390 - val_accuracy: 0.4943\n",
            "Epoch 28/100\n",
            "391/391 [==============================] - 4s 9ms/step - loss: 1.3707 - accuracy: 0.5192 - val_loss: 1.4316 - val_accuracy: 0.4959\n",
            "Epoch 29/100\n",
            "391/391 [==============================] - 3s 9ms/step - loss: 1.3646 - accuracy: 0.5204 - val_loss: 1.4287 - val_accuracy: 0.4992\n",
            "Epoch 30/100\n",
            "391/391 [==============================] - 4s 10ms/step - loss: 1.3535 - accuracy: 0.5285 - val_loss: 1.4377 - val_accuracy: 0.4924\n",
            "Epoch 31/100\n",
            "391/391 [==============================] - 4s 10ms/step - loss: 1.3496 - accuracy: 0.5264 - val_loss: 1.4204 - val_accuracy: 0.4992\n",
            "Epoch 32/100\n",
            "391/391 [==============================] - 4s 10ms/step - loss: 1.3439 - accuracy: 0.5304 - val_loss: 1.4295 - val_accuracy: 0.4971\n",
            "Epoch 33/100\n",
            "391/391 [==============================] - 4s 10ms/step - loss: 1.3376 - accuracy: 0.5307 - val_loss: 1.4280 - val_accuracy: 0.4960\n",
            "Epoch 34/100\n",
            "391/391 [==============================] - 4s 10ms/step - loss: 1.3329 - accuracy: 0.5334 - val_loss: 1.4150 - val_accuracy: 0.5043\n",
            "Epoch 35/100\n",
            "391/391 [==============================] - 4s 10ms/step - loss: 1.3215 - accuracy: 0.5338 - val_loss: 1.4192 - val_accuracy: 0.4972\n",
            "Epoch 36/100\n",
            "391/391 [==============================] - 3s 7ms/step - loss: 1.3182 - accuracy: 0.5371 - val_loss: 1.4066 - val_accuracy: 0.5065\n",
            "Epoch 37/100\n",
            "391/391 [==============================] - 4s 10ms/step - loss: 1.3105 - accuracy: 0.5424 - val_loss: 1.4077 - val_accuracy: 0.5024\n",
            "Epoch 38/100\n",
            "391/391 [==============================] - 4s 10ms/step - loss: 1.3082 - accuracy: 0.5400 - val_loss: 1.4124 - val_accuracy: 0.5027\n",
            "Epoch 39/100\n",
            "391/391 [==============================] - 4s 10ms/step - loss: 1.2977 - accuracy: 0.5444 - val_loss: 1.4245 - val_accuracy: 0.4967\n",
            "Epoch 40/100\n",
            "391/391 [==============================] - 4s 10ms/step - loss: 1.2941 - accuracy: 0.5460 - val_loss: 1.4064 - val_accuracy: 0.5003\n",
            "Epoch 41/100\n",
            "391/391 [==============================] - 4s 10ms/step - loss: 1.2877 - accuracy: 0.5478 - val_loss: 1.4448 - val_accuracy: 0.4871\n",
            "Epoch 42/100\n",
            "391/391 [==============================] - 4s 10ms/step - loss: 1.2824 - accuracy: 0.5504 - val_loss: 1.4063 - val_accuracy: 0.5072\n",
            "Epoch 43/100\n",
            "391/391 [==============================] - 4s 10ms/step - loss: 1.2762 - accuracy: 0.5510 - val_loss: 1.4086 - val_accuracy: 0.5032\n",
            "Epoch 44/100\n",
            "391/391 [==============================] - 4s 10ms/step - loss: 1.2703 - accuracy: 0.5535 - val_loss: 1.4015 - val_accuracy: 0.5062\n",
            "Epoch 45/100\n",
            "391/391 [==============================] - 3s 9ms/step - loss: 1.2658 - accuracy: 0.5543 - val_loss: 1.3963 - val_accuracy: 0.5133\n",
            "Epoch 46/100\n",
            "391/391 [==============================] - 3s 8ms/step - loss: 1.2567 - accuracy: 0.5590 - val_loss: 1.3944 - val_accuracy: 0.5076\n",
            "Epoch 47/100\n",
            "391/391 [==============================] - 4s 10ms/step - loss: 1.2540 - accuracy: 0.5586 - val_loss: 1.3931 - val_accuracy: 0.5130\n",
            "Epoch 48/100\n",
            "391/391 [==============================] - 4s 10ms/step - loss: 1.2514 - accuracy: 0.5588 - val_loss: 1.3913 - val_accuracy: 0.5127\n",
            "Epoch 49/100\n",
            "391/391 [==============================] - 4s 10ms/step - loss: 1.2444 - accuracy: 0.5621 - val_loss: 1.4085 - val_accuracy: 0.5044\n",
            "Epoch 50/100\n",
            "391/391 [==============================] - 3s 9ms/step - loss: 1.2377 - accuracy: 0.5650 - val_loss: 1.3983 - val_accuracy: 0.5107\n",
            "Epoch 51/100\n",
            "391/391 [==============================] - 4s 10ms/step - loss: 1.2322 - accuracy: 0.5655 - val_loss: 1.3940 - val_accuracy: 0.5137\n",
            "Epoch 52/100\n",
            "391/391 [==============================] - 4s 9ms/step - loss: 1.2276 - accuracy: 0.5666 - val_loss: 1.4001 - val_accuracy: 0.5106\n",
            "Epoch 53/100\n",
            "391/391 [==============================] - 4s 10ms/step - loss: 1.2246 - accuracy: 0.5687 - val_loss: 1.3796 - val_accuracy: 0.5177\n",
            "Epoch 54/100\n",
            "391/391 [==============================] - 4s 9ms/step - loss: 1.2196 - accuracy: 0.5683 - val_loss: 1.3973 - val_accuracy: 0.5082\n",
            "Epoch 55/100\n",
            "391/391 [==============================] - 4s 10ms/step - loss: 1.2120 - accuracy: 0.5733 - val_loss: 1.4035 - val_accuracy: 0.5094\n",
            "Epoch 56/100\n",
            "391/391 [==============================] - 4s 10ms/step - loss: 1.2147 - accuracy: 0.5730 - val_loss: 1.3830 - val_accuracy: 0.5132\n",
            "Epoch 57/100\n",
            "391/391 [==============================] - 4s 10ms/step - loss: 1.2033 - accuracy: 0.5759 - val_loss: 1.4111 - val_accuracy: 0.5043\n",
            "Epoch 58/100\n",
            "391/391 [==============================] - 4s 10ms/step - loss: 1.2027 - accuracy: 0.5767 - val_loss: 1.3807 - val_accuracy: 0.5132\n",
            "Epoch 59/100\n",
            "391/391 [==============================] - 4s 9ms/step - loss: 1.1982 - accuracy: 0.5784 - val_loss: 1.4060 - val_accuracy: 0.5069\n",
            "Epoch 60/100\n",
            "391/391 [==============================] - 4s 10ms/step - loss: 1.1932 - accuracy: 0.5793 - val_loss: 1.3781 - val_accuracy: 0.5153\n",
            "Epoch 61/100\n",
            "391/391 [==============================] - 4s 10ms/step - loss: 1.1876 - accuracy: 0.5830 - val_loss: 1.3900 - val_accuracy: 0.5157\n",
            "Epoch 62/100\n",
            "391/391 [==============================] - 4s 10ms/step - loss: 1.1856 - accuracy: 0.5832 - val_loss: 1.3720 - val_accuracy: 0.5196\n",
            "Epoch 63/100\n",
            "391/391 [==============================] - 3s 8ms/step - loss: 1.1785 - accuracy: 0.5840 - val_loss: 1.3891 - val_accuracy: 0.5164\n",
            "Epoch 64/100\n",
            "391/391 [==============================] - 4s 9ms/step - loss: 1.1752 - accuracy: 0.5855 - val_loss: 1.3729 - val_accuracy: 0.5212\n",
            "Epoch 65/100\n",
            "391/391 [==============================] - 4s 10ms/step - loss: 1.1716 - accuracy: 0.5862 - val_loss: 1.3757 - val_accuracy: 0.5193\n",
            "Epoch 66/100\n",
            "391/391 [==============================] - 4s 10ms/step - loss: 1.1611 - accuracy: 0.5920 - val_loss: 1.3920 - val_accuracy: 0.5122\n",
            "Epoch 67/100\n",
            "391/391 [==============================] - 3s 8ms/step - loss: 1.1627 - accuracy: 0.5892 - val_loss: 1.3836 - val_accuracy: 0.5120\n",
            "Epoch 68/100\n",
            "391/391 [==============================] - 3s 9ms/step - loss: 1.1592 - accuracy: 0.5926 - val_loss: 1.4101 - val_accuracy: 0.5094\n",
            "Epoch 69/100\n",
            "391/391 [==============================] - 4s 10ms/step - loss: 1.1533 - accuracy: 0.5947 - val_loss: 1.3719 - val_accuracy: 0.5212\n",
            "Epoch 70/100\n",
            "391/391 [==============================] - 4s 10ms/step - loss: 1.1466 - accuracy: 0.5976 - val_loss: 1.4035 - val_accuracy: 0.5087\n",
            "Epoch 71/100\n",
            "391/391 [==============================] - 2s 5ms/step - loss: 1.1454 - accuracy: 0.5959 - val_loss: 1.3624 - val_accuracy: 0.5245\n",
            "Epoch 72/100\n",
            "391/391 [==============================] - 2s 5ms/step - loss: 1.1447 - accuracy: 0.5968 - val_loss: 1.3827 - val_accuracy: 0.5135\n",
            "Epoch 73/100\n",
            "391/391 [==============================] - 2s 4ms/step - loss: 1.1416 - accuracy: 0.5980 - val_loss: 1.3722 - val_accuracy: 0.5208\n",
            "Epoch 74/100\n",
            "391/391 [==============================] - 2s 4ms/step - loss: 1.1352 - accuracy: 0.5993 - val_loss: 1.3785 - val_accuracy: 0.5193\n",
            "Epoch 75/100\n",
            "391/391 [==============================] - 2s 5ms/step - loss: 1.1369 - accuracy: 0.5976 - val_loss: 1.3931 - val_accuracy: 0.5146\n",
            "Epoch 76/100\n",
            "391/391 [==============================] - 2s 5ms/step - loss: 1.1288 - accuracy: 0.6011 - val_loss: 1.3936 - val_accuracy: 0.5108\n",
            "Epoch 77/100\n",
            "391/391 [==============================] - 2s 6ms/step - loss: 1.1237 - accuracy: 0.6054 - val_loss: 1.3847 - val_accuracy: 0.5205\n",
            "Epoch 78/100\n",
            "391/391 [==============================] - 3s 7ms/step - loss: 1.1157 - accuracy: 0.6065 - val_loss: 1.3766 - val_accuracy: 0.5166\n",
            "Epoch 79/100\n",
            "391/391 [==============================] - 4s 9ms/step - loss: 1.1157 - accuracy: 0.6072 - val_loss: 1.3756 - val_accuracy: 0.5237\n",
            "Epoch 80/100\n",
            "391/391 [==============================] - 3s 9ms/step - loss: 1.1106 - accuracy: 0.6089 - val_loss: 1.3861 - val_accuracy: 0.5168\n",
            "Epoch 81/100\n",
            "391/391 [==============================] - 4s 10ms/step - loss: 1.1133 - accuracy: 0.6082 - val_loss: 1.4054 - val_accuracy: 0.5081\n",
            "Epoch 82/100\n",
            "391/391 [==============================] - 4s 9ms/step - loss: 1.1047 - accuracy: 0.6126 - val_loss: 1.3736 - val_accuracy: 0.5255\n",
            "Epoch 83/100\n",
            "391/391 [==============================] - 3s 8ms/step - loss: 1.1045 - accuracy: 0.6087 - val_loss: 1.3855 - val_accuracy: 0.5183\n",
            "Epoch 84/100\n",
            "391/391 [==============================] - 3s 7ms/step - loss: 1.0977 - accuracy: 0.6131 - val_loss: 1.3862 - val_accuracy: 0.5195\n",
            "Epoch 85/100\n",
            "391/391 [==============================] - 3s 7ms/step - loss: 1.0941 - accuracy: 0.6137 - val_loss: 1.3767 - val_accuracy: 0.5217\n",
            "Epoch 86/100\n",
            "391/391 [==============================] - 3s 7ms/step - loss: 1.0895 - accuracy: 0.6150 - val_loss: 1.3883 - val_accuracy: 0.5186\n",
            "Epoch 87/100\n",
            "391/391 [==============================] - 3s 8ms/step - loss: 1.0878 - accuracy: 0.6146 - val_loss: 1.4200 - val_accuracy: 0.5100\n",
            "Epoch 88/100\n",
            "391/391 [==============================] - 3s 8ms/step - loss: 1.0837 - accuracy: 0.6195 - val_loss: 1.4571 - val_accuracy: 0.4997\n",
            "Epoch 89/100\n",
            "391/391 [==============================] - 3s 7ms/step - loss: 1.0801 - accuracy: 0.6172 - val_loss: 1.4162 - val_accuracy: 0.5071\n",
            "Epoch 90/100\n",
            "391/391 [==============================] - 3s 8ms/step - loss: 1.0802 - accuracy: 0.6179 - val_loss: 1.3802 - val_accuracy: 0.5233\n",
            "Epoch 91/100\n",
            "391/391 [==============================] - 4s 10ms/step - loss: 1.0708 - accuracy: 0.6223 - val_loss: 1.3754 - val_accuracy: 0.5232\n",
            "Epoch 92/100\n",
            "391/391 [==============================] - 4s 10ms/step - loss: 1.0693 - accuracy: 0.6246 - val_loss: 1.4066 - val_accuracy: 0.5130\n",
            "Epoch 93/100\n",
            "391/391 [==============================] - 3s 8ms/step - loss: 1.0675 - accuracy: 0.6233 - val_loss: 1.3930 - val_accuracy: 0.5177\n",
            "Epoch 94/100\n",
            "391/391 [==============================] - 2s 5ms/step - loss: 1.0603 - accuracy: 0.6250 - val_loss: 1.3941 - val_accuracy: 0.5198\n",
            "Epoch 95/100\n",
            "391/391 [==============================] - 3s 7ms/step - loss: 1.0575 - accuracy: 0.6269 - val_loss: 1.3989 - val_accuracy: 0.5178\n",
            "Epoch 96/100\n",
            "391/391 [==============================] - 3s 8ms/step - loss: 1.0549 - accuracy: 0.6269 - val_loss: 1.4037 - val_accuracy: 0.5179\n",
            "Epoch 97/100\n",
            "391/391 [==============================] - 3s 8ms/step - loss: 1.0541 - accuracy: 0.6269 - val_loss: 1.3768 - val_accuracy: 0.5218\n",
            "Epoch 98/100\n",
            "391/391 [==============================] - 3s 7ms/step - loss: 1.0524 - accuracy: 0.6286 - val_loss: 1.3881 - val_accuracy: 0.5243\n",
            "Epoch 99/100\n",
            "391/391 [==============================] - 3s 8ms/step - loss: 1.0509 - accuracy: 0.6280 - val_loss: 1.4101 - val_accuracy: 0.5130\n",
            "Epoch 100/100\n",
            "391/391 [==============================] - 4s 10ms/step - loss: 1.0485 - accuracy: 0.6297 - val_loss: 1.3865 - val_accuracy: 0.5205\n"
          ]
        }
      ],
      "source": [
        "time_start1 = time.perf_counter()\n",
        "hist1 = model1.fit(\n",
        "    x=x_train,\n",
        "    y=y_train,\n",
        "    # кількість епох\n",
        "    epochs=100,\n",
        "    # розмір партії даних\n",
        "    batch_size=128,\n",
        "    validation_data=(x_test, y_test)\n",
        ")\n",
        "time_end1 = time.perf_counter()\n"
      ]
    },
    {
      "cell_type": "code",
      "execution_count": 17,
      "metadata": {},
      "outputs": [
        {
          "name": "stdout",
          "output_type": "stream",
          "text": [
            "Час навчання моделі з початковими гіперпараметрами: 331.67782859999716\n"
          ]
        }
      ],
      "source": [
        "print('Час навчання моделі з початковими гіперпараметрами:', time_end1 - time_start1)"
      ]
    },
    {
      "cell_type": "markdown",
      "metadata": {
        "id": "X8wlSx66h0dA"
      },
      "source": [
        "Оцінити метрики моделі на тестовій вибірці;"
      ]
    },
    {
      "cell_type": "code",
      "execution_count": 18,
      "metadata": {
        "colab": {
          "base_uri": "https://localhost:8080/"
        },
        "id": "Mcpqyld7sA7A",
        "outputId": "cf48f18e-99a9-41e2-8346-b0d2fc622ae6"
      },
      "outputs": [
        {
          "name": "stdout",
          "output_type": "stream",
          "text": [
            "313/313 - 1s - loss: 1.3865 - accuracy: 0.5205 - 814ms/epoch - 3ms/step\n"
          ]
        }
      ],
      "source": [
        "test_loss1, test_accuracy1 = model1.evaluate(x_test, y_test, verbose=2)"
      ]
    },
    {
      "cell_type": "markdown",
      "metadata": {
        "id": "W011H0lCh2_o"
      },
      "source": [
        "Побудувати криві навчання для моделі (для функції втрат та метрики точності);"
      ]
    },
    {
      "cell_type": "code",
      "execution_count": 19,
      "metadata": {},
      "outputs": [],
      "source": [
        "def plot_history(history):\n",
        "    plt.figure(figsize=(15,8))\n",
        "\n",
        "    # Побудова кривої втрат\n",
        "    plt.subplot(1, 2, 1)\n",
        "    plt.plot(history.history['loss'], label='Training Loss')\n",
        "    plt.plot(history.history['val_loss'], label='Validation Loss')\n",
        "    plt.title('Loss Curve')\n",
        "    plt.xlabel('Epoch')\n",
        "    plt.ylabel('Loss')\n",
        "    plt.legend()\n",
        "\n",
        "    # Побудова кривої точності\n",
        "    plt.subplot(1, 2, 2)\n",
        "    plt.plot(history.history['accuracy'], label='Training Accuracy')\n",
        "    plt.plot(history.history['val_accuracy'], label='Validation Accuracy')\n",
        "    plt.title('Accuracy Curve')\n",
        "    plt.xlabel('Epoch')\n",
        "    plt.ylabel('Accuracy')\n",
        "    plt.legend()\n",
        "\n",
        "    plt.tight_layout()\n",
        "    plt.show()"
      ]
    },
    {
      "cell_type": "code",
      "execution_count": 20,
      "metadata": {
        "colab": {
          "base_uri": "https://localhost:8080/",
          "height": 407
        },
        "id": "RoJbHdxFwqD5",
        "outputId": "e2dbb915-083e-452f-9449-3d0b5783662d"
      },
      "outputs": [
        {
          "data": {
            "image/png": "[encoded data removed]",
            "text/plain": [
              "<Figure size 1080x576 with 2 Axes>"
            ]
          },
          "metadata": {
            "needs_background": "light"
          },
          "output_type": "display_data"
        }
      ],
      "source": [
        "plot_history(hist1)"
      ]
    },
    {
      "cell_type": "markdown",
      "metadata": {
        "id": "ucJ3j3mlh5Qk"
      },
      "source": [
        "Побудувати classification_report та confusion_matrix для результатів моделі на тестовій виборці, зробити висновки;"
      ]
    },
    {
      "cell_type": "code",
      "execution_count": 21,
      "metadata": {
        "colab": {
          "base_uri": "https://localhost:8080/"
        },
        "id": "gIesDsHELbNR",
        "outputId": "f293629f-048f-4456-e9bc-4154778556a6"
      },
      "outputs": [
        {
          "name": "stdout",
          "output_type": "stream",
          "text": [
            "313/313 [==============================] - 1s 2ms/step\n"
          ]
        }
      ],
      "source": [
        "# обчислення передбачуваних значень y\n",
        "predictions1 = model1.predict(x_test)\n",
        "# перетворення векторів прогнозів на мітки класів\n",
        "y_pred1 = np.argmax(predictions1, axis=1)"
      ]
    },
    {
      "cell_type": "code",
      "execution_count": 22,
      "metadata": {
        "colab": {
          "base_uri": "https://localhost:8080/"
        },
        "id": "pl5U_KICLdln",
        "outputId": "7c9fec07-050f-411f-8350-58dc1936836a"
      },
      "outputs": [
        {
          "data": {
            "text/plain": [
              "array([[522,  40,  69,  20,  86,  12,  23,  29, 157,  42],\n",
              "       [ 30, 655,  16,  22,  12,  10,  18,  31,  78, 128],\n",
              "       [ 53,  20, 366,  74, 217,  66, 104,  63,  19,  18],\n",
              "       [ 16,  20,  85, 318, 128, 157, 144,  69,  26,  37],\n",
              "       [ 34,   8, 103,  40, 572,  37,  95,  79,  23,   9],\n",
              "       [  8,  13,  91, 191, 117, 368,  79,  92,  18,  23],\n",
              "       [ 10,  14,  58,  60, 176,  24, 603,  26,  15,  14],\n",
              "       [ 19,  14,  56,  55, 121,  56,  33, 602,  15,  29],\n",
              "       [ 60,  69,  19,  18,  52,  12,  17,  17, 688,  48],\n",
              "       [ 33, 219,  16,  23,  31,  18,  20,  70,  59, 511]], dtype=int64)"
            ]
          },
          "execution_count": 22,
          "metadata": {},
          "output_type": "execute_result"
        }
      ],
      "source": [
        "# матриця помилок\n",
        "confusion_matrix(y_test, y_pred1)"
      ]
    },
    {
      "cell_type": "code",
      "execution_count": 23,
      "metadata": {
        "colab": {
          "base_uri": "https://localhost:8080/"
        },
        "id": "JOSn7FEwF74E",
        "outputId": "51a50263-3603-4594-eb61-4f688b2d877b"
      },
      "outputs": [
        {
          "name": "stdout",
          "output_type": "stream",
          "text": [
            "              precision    recall  f1-score   support\n",
            "\n",
            "           0       0.66      0.52      0.58      1000\n",
            "           1       0.61      0.66      0.63      1000\n",
            "           2       0.42      0.37      0.39      1000\n",
            "           3       0.39      0.32      0.35      1000\n",
            "           4       0.38      0.57      0.46      1000\n",
            "           5       0.48      0.37      0.42      1000\n",
            "           6       0.53      0.60      0.56      1000\n",
            "           7       0.56      0.60      0.58      1000\n",
            "           8       0.63      0.69      0.66      1000\n",
            "           9       0.59      0.51      0.55      1000\n",
            "\n",
            "    accuracy                           0.52     10000\n",
            "   macro avg       0.53      0.52      0.52     10000\n",
            "weighted avg       0.53      0.52      0.52     10000\n",
            "\n"
          ]
        }
      ],
      "source": [
        "# звіт класифікації\n",
        "print(classification_report(y_test, y_pred1))"
      ]
    },
    {
      "cell_type": "code",
      "execution_count": 24,
      "metadata": {
        "colab": {
          "base_uri": "https://localhost:8080/"
        },
        "id": "60XOybVkhwvH",
        "outputId": "4dd2aeb7-bd8b-402c-f5a6-7535c75e0f9d"
      },
      "outputs": [
        {
          "name": "stdout",
          "output_type": "stream",
          "text": [
            "Model: \"model\"\n",
            "_________________________________________________________________\n",
            " Layer (type)                Output Shape              Param #   \n",
            "=================================================================\n",
            " input_1 (InputLayer)        [(None, 32, 32, 3)]       0         \n",
            "                                                                 \n",
            " flatten (Flatten)           (None, 3072)              0         \n",
            "                                                                 \n",
            " dense (Dense)               (None, 100)               307300    \n",
            "                                                                 \n",
            " dense_1 (Dense)             (None, 100)               10100     \n",
            "                                                                 \n",
            " dense_2 (Dense)             (None, 10)                1010      \n",
            "                                                                 \n",
            "=================================================================\n",
            "Total params: 318410 (1.21 MB)\n",
            "Trainable params: 318410 (1.21 MB)\n",
            "Non-trainable params: 0 (0.00 Byte)\n",
            "_________________________________________________________________\n"
          ]
        }
      ],
      "source": [
        "model1.summary()"
      ]
    },
    {
      "cell_type": "markdown",
      "metadata": {},
      "source": [
        "### Змінюючи гіперпараметри, створити власну архітектуру повнозв’язної моделі"
      ]
    },
    {
      "cell_type": "code",
      "execution_count": 25,
      "metadata": {},
      "outputs": [
        {
          "name": "stdout",
          "output_type": "stream",
          "text": [
            "Epoch 1/50\n",
            "1563/1563 [==============================] - 37s 23ms/step - loss: 1.8340 - accuracy: 0.3451 - val_loss: 1.6735 - val_accuracy: 0.3972\n",
            "Epoch 2/50\n",
            "1563/1563 [==============================] - 39s 25ms/step - loss: 1.6354 - accuracy: 0.4183 - val_loss: 1.5686 - val_accuracy: 0.4506\n",
            "Epoch 3/50\n",
            "1563/1563 [==============================] - 37s 24ms/step - loss: 1.5457 - accuracy: 0.4512 - val_loss: 1.5113 - val_accuracy: 0.4641\n",
            "Epoch 4/50\n",
            "1563/1563 [==============================] - 39s 25ms/step - loss: 1.4844 - accuracy: 0.4746 - val_loss: 1.4673 - val_accuracy: 0.4804\n",
            "Epoch 5/50\n",
            "1563/1563 [==============================] - 44s 28ms/step - loss: 1.4371 - accuracy: 0.4901 - val_loss: 1.4746 - val_accuracy: 0.4728\n",
            "Epoch 6/50\n",
            "1563/1563 [==============================] - 47s 30ms/step - loss: 1.3939 - accuracy: 0.5065 - val_loss: 1.4454 - val_accuracy: 0.4874\n",
            "Epoch 7/50\n",
            "1563/1563 [==============================] - 48s 31ms/step - loss: 1.3554 - accuracy: 0.5204 - val_loss: 1.4072 - val_accuracy: 0.5035\n",
            "Epoch 8/50\n",
            "1563/1563 [==============================] - 46s 29ms/step - loss: 1.3221 - accuracy: 0.5325 - val_loss: 1.3990 - val_accuracy: 0.5025\n",
            "Epoch 9/50\n",
            "1563/1563 [==============================] - 45s 29ms/step - loss: 1.2881 - accuracy: 0.5425 - val_loss: 1.3948 - val_accuracy: 0.5038\n",
            "Epoch 10/50\n",
            "1563/1563 [==============================] - 46s 29ms/step - loss: 1.2590 - accuracy: 0.5548 - val_loss: 1.3718 - val_accuracy: 0.5066\n",
            "Epoch 11/50\n",
            "1563/1563 [==============================] - 46s 29ms/step - loss: 1.2292 - accuracy: 0.5664 - val_loss: 1.4430 - val_accuracy: 0.4846\n",
            "Epoch 12/50\n",
            "1563/1563 [==============================] - 37s 23ms/step - loss: 1.2019 - accuracy: 0.5733 - val_loss: 1.3288 - val_accuracy: 0.5263\n",
            "Epoch 13/50\n",
            "1563/1563 [==============================] - 37s 24ms/step - loss: 1.1787 - accuracy: 0.5833 - val_loss: 1.3245 - val_accuracy: 0.5258\n",
            "Epoch 14/50\n",
            "1563/1563 [==============================] - 37s 24ms/step - loss: 1.1489 - accuracy: 0.5955 - val_loss: 1.3572 - val_accuracy: 0.5139\n",
            "Epoch 15/50\n",
            "1563/1563 [==============================] - 36s 23ms/step - loss: 1.1230 - accuracy: 0.6031 - val_loss: 1.2966 - val_accuracy: 0.5413\n",
            "Epoch 16/50\n",
            "1563/1563 [==============================] - 38s 24ms/step - loss: 1.0942 - accuracy: 0.6144 - val_loss: 1.3169 - val_accuracy: 0.5373\n",
            "Epoch 17/50\n",
            "1563/1563 [==============================] - 43s 28ms/step - loss: 1.0690 - accuracy: 0.6209 - val_loss: 1.3139 - val_accuracy: 0.5392\n",
            "Epoch 18/50\n",
            "1563/1563 [==============================] - 47s 30ms/step - loss: 1.0441 - accuracy: 0.6309 - val_loss: 1.3037 - val_accuracy: 0.5381\n",
            "Epoch 19/50\n",
            "1563/1563 [==============================] - 38s 24ms/step - loss: 1.0176 - accuracy: 0.6413 - val_loss: 1.3039 - val_accuracy: 0.5438\n",
            "Epoch 20/50\n",
            "1563/1563 [==============================] - 36s 23ms/step - loss: 0.9899 - accuracy: 0.6507 - val_loss: 1.3074 - val_accuracy: 0.5457\n",
            "Epoch 21/50\n",
            "1563/1563 [==============================] - 42s 27ms/step - loss: 0.9668 - accuracy: 0.6598 - val_loss: 1.3567 - val_accuracy: 0.5347\n",
            "Epoch 22/50\n",
            "1563/1563 [==============================] - 42s 27ms/step - loss: 0.9424 - accuracy: 0.6678 - val_loss: 1.3320 - val_accuracy: 0.5369\n",
            "Epoch 23/50\n",
            "1563/1563 [==============================] - 38s 24ms/step - loss: 0.9164 - accuracy: 0.6768 - val_loss: 1.3816 - val_accuracy: 0.5236\n",
            "Epoch 24/50\n",
            "1563/1563 [==============================] - 37s 24ms/step - loss: 0.8904 - accuracy: 0.6881 - val_loss: 1.2894 - val_accuracy: 0.5562\n",
            "Epoch 25/50\n",
            "1563/1563 [==============================] - 37s 24ms/step - loss: 0.8664 - accuracy: 0.6966 - val_loss: 1.3495 - val_accuracy: 0.5512\n",
            "Epoch 26/50\n",
            "1563/1563 [==============================] - 43s 27ms/step - loss: 0.8415 - accuracy: 0.7022 - val_loss: 1.4257 - val_accuracy: 0.5302\n",
            "Epoch 27/50\n",
            "1563/1563 [==============================] - 43s 28ms/step - loss: 0.8122 - accuracy: 0.7140 - val_loss: 1.3632 - val_accuracy: 0.5466\n",
            "Epoch 28/50\n",
            "1563/1563 [==============================] - 43s 28ms/step - loss: 0.7938 - accuracy: 0.7188 - val_loss: 1.3249 - val_accuracy: 0.5583\n",
            "Epoch 29/50\n",
            "1563/1563 [==============================] - 45s 29ms/step - loss: 0.7645 - accuracy: 0.7311 - val_loss: 1.3487 - val_accuracy: 0.5547\n",
            "Epoch 30/50\n",
            "1563/1563 [==============================] - 44s 28ms/step - loss: 0.7351 - accuracy: 0.7434 - val_loss: 1.3762 - val_accuracy: 0.5513\n",
            "Epoch 31/50\n",
            "1563/1563 [==============================] - 44s 28ms/step - loss: 0.7128 - accuracy: 0.7504 - val_loss: 1.4330 - val_accuracy: 0.5411\n",
            "Epoch 32/50\n",
            "1563/1563 [==============================] - 45s 29ms/step - loss: 0.6935 - accuracy: 0.7560 - val_loss: 1.4565 - val_accuracy: 0.5322\n",
            "Epoch 33/50\n",
            "1563/1563 [==============================] - 43s 27ms/step - loss: 0.6688 - accuracy: 0.7652 - val_loss: 1.4923 - val_accuracy: 0.5363\n",
            "Epoch 34/50\n",
            "1563/1563 [==============================] - 43s 28ms/step - loss: 0.6437 - accuracy: 0.7742 - val_loss: 1.4467 - val_accuracy: 0.5429\n",
            "Epoch 35/50\n",
            "1563/1563 [==============================] - 43s 28ms/step - loss: 0.6124 - accuracy: 0.7870 - val_loss: 1.5284 - val_accuracy: 0.5374\n",
            "Epoch 36/50\n",
            "1563/1563 [==============================] - 43s 28ms/step - loss: 0.5870 - accuracy: 0.7964 - val_loss: 1.5068 - val_accuracy: 0.5540\n",
            "Epoch 37/50\n",
            "1563/1563 [==============================] - 38s 24ms/step - loss: 0.5678 - accuracy: 0.8016 - val_loss: 1.5287 - val_accuracy: 0.5415\n",
            "Epoch 38/50\n",
            "1563/1563 [==============================] - 37s 24ms/step - loss: 0.5416 - accuracy: 0.8111 - val_loss: 1.5080 - val_accuracy: 0.5483\n",
            "Epoch 39/50\n",
            "1563/1563 [==============================] - 40s 26ms/step - loss: 0.5205 - accuracy: 0.8177 - val_loss: 1.5835 - val_accuracy: 0.5467\n",
            "Epoch 40/50\n",
            "1563/1563 [==============================] - 40s 25ms/step - loss: 0.4926 - accuracy: 0.8268 - val_loss: 1.6059 - val_accuracy: 0.5496\n",
            "Epoch 41/50\n",
            "1563/1563 [==============================] - 38s 24ms/step - loss: 0.4726 - accuracy: 0.8366 - val_loss: 1.5836 - val_accuracy: 0.5451\n",
            "Epoch 42/50\n",
            "1563/1563 [==============================] - 37s 24ms/step - loss: 0.4577 - accuracy: 0.8422 - val_loss: 1.6920 - val_accuracy: 0.5397\n",
            "Epoch 43/50\n",
            "1563/1563 [==============================] - 39s 25ms/step - loss: 0.4407 - accuracy: 0.8480 - val_loss: 1.7179 - val_accuracy: 0.5476\n",
            "Epoch 44/50\n",
            "1563/1563 [==============================] - 43s 27ms/step - loss: 0.4185 - accuracy: 0.8551 - val_loss: 1.6582 - val_accuracy: 0.5463\n",
            "Epoch 45/50\n",
            "1563/1563 [==============================] - 43s 27ms/step - loss: 0.3981 - accuracy: 0.8617 - val_loss: 1.7293 - val_accuracy: 0.5448\n",
            "Epoch 46/50\n",
            "1563/1563 [==============================] - 43s 27ms/step - loss: 0.3743 - accuracy: 0.8706 - val_loss: 1.7783 - val_accuracy: 0.5528\n",
            "Epoch 47/50\n",
            "1563/1563 [==============================] - 42s 27ms/step - loss: 0.3632 - accuracy: 0.8760 - val_loss: 1.8580 - val_accuracy: 0.5365\n",
            "Epoch 48/50\n",
            "1563/1563 [==============================] - 40s 26ms/step - loss: 0.3390 - accuracy: 0.8841 - val_loss: 1.8414 - val_accuracy: 0.5420\n",
            "Epoch 49/50\n",
            "1563/1563 [==============================] - 42s 27ms/step - loss: 0.3211 - accuracy: 0.8906 - val_loss: 1.8498 - val_accuracy: 0.5428\n",
            "Epoch 50/50\n",
            "1563/1563 [==============================] - 41s 26ms/step - loss: 0.3142 - accuracy: 0.8939 - val_loss: 1.9367 - val_accuracy: 0.5509\n"
          ]
        }
      ],
      "source": [
        "time_start2 = time.perf_counter()\n",
        "\n",
        "model2 = construct_model((32,32,3), dim_per_layer=[1152, 576, 288], n_classes=len(id2class))\n",
        "\n",
        "model2.compile(\n",
        "    optimizer=tf.keras.optimizers.SGD(learning_rate=1e-3, momentum=0.9),\n",
        "    # спарс версія оскільки y_train та y_test містять номери класів\n",
        "    loss=tf.keras.losses.SparseCategoricalCrossentropy(from_logits=True),\n",
        "    metrics=['accuracy']\n",
        ")\n",
        "\n",
        "hist2 = model2.fit(\n",
        "    x=x_train,\n",
        "    y=y_train,\n",
        "    # кількість епох\n",
        "    epochs=50,\n",
        "    # розмір партії даних\n",
        "    batch_size=32,\n",
        "    validation_data=(x_test, y_test)\n",
        ")\n",
        "\n",
        "time_end2 = time.perf_counter()\n"
      ]
    },
    {
      "cell_type": "markdown",
      "metadata": {},
      "source": [
        "| num_experiment | dim_per_layer | num_layer | epochs | batch_size | accuracy |\n",
        "| :-: | :- | :-: | :-: | :-: | :-: |\n",
        "| 1 | | | 25 | 32 | 0.5257 |\n",
        "| 2 | | | 20 | 32 | 0.5282 |\n",
        "| 3 |[1024, 512, 256] | 3 | 20 | 32 | 0.5445 |\n",
        "| 4 |[1024, 512, 256, 128] | 4 | 20 | 32 | 0.5344 |\n",
        "| 5 |[512, 256, 128] | 3 | 20 | 32 | 0.5252 |\n",
        "| 6 |[256, 128] | 2 | 20 | 32 | 0.5183 |\n",
        "| 7 |[1024, 512] | 2 | 20 | 32 | 0.5355 |\n",
        "| 8 |[2048, 1024, 512] | 3 | 20 | 32 | 0.5374 |\n",
        "| 9 |[2048, 1024, 512, 216] | 4 | 20 | 32 | 0.5349 |\n",
        "| 10 |[1024, 512, 256] | 3 | 20 | 64 | 0.5338 |\n",
        "| 11 |[1024, 512, 256] | 3 | 20 | 16 | 0.5428 |\n",
        "| 12 |[900, 450, 225] | 3 | 20 | 32 | 0.5385 |\n",
        "| 13 |[800, 400, 200] | 3 | 20 | 32 | 0.5286 |\n",
        "| 14 |[800, 400, 200] | 3 | 20 | 128 | 0.5073 |\n",
        "| 15 |[1024, 512, 256] | 3 | 40 | 32 | **0.5514** |\n",
        "| 16 |[1024, 512, 256] | 3 | 30 | 32 | **0.5504** |\n",
        "| 17 |[1024, 512, 256] | 3 | 30 | 16 | 0.5289 |\n",
        "| 18 |[1024, 512, 256] | 3 | 45 | 32 | 0.5417 |\n",
        "| 19 |[1024, 512, 256] | 3 | 30 | 64 | 0.5424 |\n",
        "| 20 |[1152, 576, 288] | 3 | 30 | 32 | **0.5580** |\n",
        "| 21 |[1024, 512, 256, 128] | 4 | 35 | 32 | 0.5281 |\n",
        "| 22 |[1024, 768, 512] | 3 | 30 | 32 | 0.5445 |\n",
        "| 23 |[960, 480, 240] | 3 | 30 | 48 | 0.5455 |\n",
        "| 24 |[1024, 512, 256] | 3 | 20 | 48 | 0.5383 |\n",
        "| 25 |[1152, 576, 288] | 3 | 35 | 32 | **0.5598** |\n",
        "| 26 |[1152, 576, 288, 144] | 4 | 30 | 32 | **0.5560** |\n",
        "| 27 |[1024, 512, 256] | 3 | 30 | 48 | 0.5329 |\n",
        "| 28 |[1280, 640, 320] | 3 | 30 | 32 | 0.5474 |\n",
        "| 29 |[1152, 576, 288] | 3 | 25 | 16 | 0.5409 |\n",
        "| 30 |[1152, 576, 288] | 3 | 40 | 64 | 0.5396 |\n",
        "| 31 |[1088, 544, 272] | 3 | 35 | 32 | 0.5393 |\n",
        "| 32 |[1024, 512, 256] | 3 | 50 | 32 | 0.5464 |\n",
        "| 33 |[1152, 576, 288] | 3 | 50 | 32 | **0.5608** |"
      ]
    },
    {
      "cell_type": "code",
      "execution_count": 26,
      "metadata": {},
      "outputs": [
        {
          "name": "stdout",
          "output_type": "stream",
          "text": [
            "Час навчання моделі зі зміненими гіперпараметрами: 2062.161785199998\n"
          ]
        }
      ],
      "source": [
        "print('Час навчання моделі зі зміненими гіперпараметрами:', time_end2 - time_start2)"
      ]
    },
    {
      "cell_type": "code",
      "execution_count": 27,
      "metadata": {},
      "outputs": [
        {
          "data": {
            "image/png": "[encoded data removed]",
            "text/plain": [
              "<Figure size 1080x576 with 2 Axes>"
            ]
          },
          "metadata": {
            "needs_background": "light"
          },
          "output_type": "display_data"
        }
      ],
      "source": [
        "plot_history(hist2)"
      ]
    },
    {
      "cell_type": "code",
      "execution_count": 28,
      "metadata": {},
      "outputs": [
        {
          "name": "stdout",
          "output_type": "stream",
          "text": [
            "313/313 [==============================] - 2s 6ms/step\n"
          ]
        }
      ],
      "source": [
        "# обчислення передбачуваних значень y\n",
        "predictions2 = model2.predict(x_test)\n",
        "# перетворення векторів прогнозів на мітки класів\n",
        "y_pred2 = np.argmax(predictions2, axis=1)"
      ]
    },
    {
      "cell_type": "code",
      "execution_count": 29,
      "metadata": {},
      "outputs": [
        {
          "data": {
            "text/plain": [
              "array([[712,  31,  36,  22,  16,   6,  29,   6, 122,  20],\n",
              "       [ 44, 692,  13,  29,  17,   6,  19,  14,  91,  75],\n",
              "       [107,  18, 388, 150, 144,  36,  73,  45,  28,  11],\n",
              "       [ 41,  22,  63, 551,  60,  72, 102,  45,  28,  16],\n",
              "       [ 70,   9,  94, 109, 509,  18,  88,  58,  35,  10],\n",
              "       [ 28,  11,  67, 365,  67, 296,  62,  63,  27,  14],\n",
              "       [ 22,  21,  40, 145, 103,  20, 607,  13,  21,   8],\n",
              "       [ 73,  14,  47, 114,  89,  35,  25, 558,  20,  25],\n",
              "       [114,  52,  13,  37,  12,   2,   7,  12, 731,  20],\n",
              "       [ 81, 201,  11,  60,  23,  11,  20,  38,  90, 465]], dtype=int64)"
            ]
          },
          "execution_count": 29,
          "metadata": {},
          "output_type": "execute_result"
        }
      ],
      "source": [
        "# матриця помилок\n",
        "confusion_matrix(y_test, y_pred2)"
      ]
    },
    {
      "cell_type": "code",
      "execution_count": 30,
      "metadata": {},
      "outputs": [
        {
          "name": "stdout",
          "output_type": "stream",
          "text": [
            "              precision    recall  f1-score   support\n",
            "\n",
            "           0       0.55      0.71      0.62      1000\n",
            "           1       0.65      0.69      0.67      1000\n",
            "           2       0.50      0.39      0.44      1000\n",
            "           3       0.35      0.55      0.43      1000\n",
            "           4       0.49      0.51      0.50      1000\n",
            "           5       0.59      0.30      0.39      1000\n",
            "           6       0.59      0.61      0.60      1000\n",
            "           7       0.65      0.56      0.60      1000\n",
            "           8       0.61      0.73      0.67      1000\n",
            "           9       0.70      0.47      0.56      1000\n",
            "\n",
            "    accuracy                           0.55     10000\n",
            "   macro avg       0.57      0.55      0.55     10000\n",
            "weighted avg       0.57      0.55      0.55     10000\n",
            "\n"
          ]
        }
      ],
      "source": [
        "# звіт класифікації\n",
        "print(classification_report(y_test, y_pred2))"
      ]
    },
    {
      "cell_type": "code",
      "execution_count": 31,
      "metadata": {},
      "outputs": [
        {
          "name": "stdout",
          "output_type": "stream",
          "text": [
            "Model: \"model_1\"\n",
            "_________________________________________________________________\n",
            " Layer (type)                Output Shape              Param #   \n",
            "=================================================================\n",
            " input_2 (InputLayer)        [(None, 32, 32, 3)]       0         \n",
            "                                                                 \n",
            " flatten_1 (Flatten)         (None, 3072)              0         \n",
            "                                                                 \n",
            " dense_3 (Dense)             (None, 1152)              3540096   \n",
            "                                                                 \n",
            " dense_4 (Dense)             (None, 576)               664128    \n",
            "                                                                 \n",
            " dense_5 (Dense)             (None, 288)               166176    \n",
            "                                                                 \n",
            " dense_6 (Dense)             (None, 10)                2890      \n",
            "                                                                 \n",
            "=================================================================\n",
            "Total params: 4373290 (16.68 MB)\n",
            "Trainable params: 4373290 (16.68 MB)\n",
            "Non-trainable params: 0 (0.00 Byte)\n",
            "_________________________________________________________________\n"
          ]
        }
      ],
      "source": [
        "model2.summary()"
      ]
    },
    {
      "cell_type": "markdown",
      "metadata": {
        "id": "nF_ROvuyhAw4"
      },
      "source": [
        "### Порівняти розміри моделей та час їх навчання;\n",
        "1. Початкова модель - 331.677 s; 1.21 MB; accuracy - 0.5205\n",
        "2. Змінена модель - 2062.161 s; 16.68 MB; accuracy - 0.5509"
      ]
    },
    {
      "cell_type": "markdown",
      "metadata": {},
      "source": [
        "### Завантажити кілька зображень, що не належать до датасету, та зробити передбачення їх класу, використовуючи (останню) навчену модель."
      ]
    },
    {
      "cell_type": "code",
      "execution_count": 32,
      "metadata": {},
      "outputs": [],
      "source": [
        "def predict_image_class(img_path, model):\n",
        "    img = image.load_img(img_path, target_size=(32, 32))\n",
        "    img_array = image.img_to_array(img)\n",
        "    # додатковий вимір на початку масиву (32, 32, 3) -> (1, 32, 32, 3)\n",
        "    img_array = np.expand_dims(img_array, axis=0) \n",
        "    # нормалізація \n",
        "    img_array /= 255.0 \n",
        "\n",
        "    # використання моделі для класифікації зображення\n",
        "    predictions = model.predict(img_array)\n",
        "    class_idx = np.argmax(predictions, axis=1)\n",
        "    \n",
        "    # відображення номеру класу та його назви\n",
        "    class_name = id2class[class_idx[0]]\n",
        "    \n",
        "    return class_name"
      ]
    },
    {
      "cell_type": "code",
      "execution_count": 33,
      "metadata": {},
      "outputs": [
        {
          "name": "stdout",
          "output_type": "stream",
          "text": [
            "1/1 [==============================] - 0s 36ms/step\n"
          ]
        },
        {
          "data": {
            "text/plain": [
              "'automobile'"
            ]
          },
          "execution_count": 33,
          "metadata": {},
          "output_type": "execute_result"
        }
      ],
      "source": [
        "predict_image_class(img_path=r'DL-LW1-test/test_automobile.jpg', model=model2)"
      ]
    },
    {
      "cell_type": "code",
      "execution_count": 34,
      "metadata": {},
      "outputs": [
        {
          "name": "stdout",
          "output_type": "stream",
          "text": [
            "1/1 [==============================] - 0s 30ms/step\n"
          ]
        },
        {
          "data": {
            "text/plain": [
              "'cat'"
            ]
          },
          "execution_count": 34,
          "metadata": {},
          "output_type": "execute_result"
        }
      ],
      "source": [
        "predict_image_class(img_path=r'DL-LW1-test/test_cat.jpg', model=model2)"
      ]
    },
    {
      "cell_type": "code",
      "execution_count": 35,
      "metadata": {},
      "outputs": [
        {
          "name": "stdout",
          "output_type": "stream",
          "text": [
            "1/1 [==============================] - 0s 28ms/step\n"
          ]
        },
        {
          "data": {
            "text/plain": [
              "'deer'"
            ]
          },
          "execution_count": 35,
          "metadata": {},
          "output_type": "execute_result"
        }
      ],
      "source": [
        "predict_image_class(img_path=r'DL-LW1-test/test_dog.jpg', model=model2)"
      ]
    }
  ],
  "metadata": {
    "accelerator": "GPU",
    "colab": {
      "gpuType": "T4",
      "provenance": []
    },
    "kernelspec": {
      "display_name": "Python 3",
      "name": "python3"
    },
    "language_info": {
      "codemirror_mode": {
        "name": "ipython",
        "version": 3
      },
      "file_extension": ".py",
      "mimetype": "text/x-python",
      "name": "python",
      "nbconvert_exporter": "python",
      "pygments_lexer": "ipython3",
      "version": "3.10.1"
    }
  },
  "nbformat": 4,
  "nbformat_minor": 0
}
