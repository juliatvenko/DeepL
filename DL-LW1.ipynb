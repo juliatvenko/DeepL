{
  "cells": [
    {
      "cell_type": "markdown",
      "metadata": {
        "id": "LBssvjIqhMoI"
      },
      "source": [
        "Підготувати середовище для виконання лабораторної роботи (локальне чи Colab)"
      ]
    },
    {
      "cell_type": "code",
      "execution_count": 1,
      "metadata": {
        "id": "kzAA-FN0gSXv"
      },
      "outputs": [],
      "source": [
        "import tensorflow as tf\n",
        "import matplotlib.pyplot as plt\n",
        "from sklearn.metrics import classification_report, confusion_matrix\n",
        "import numpy as np"
      ]
    },
    {
      "cell_type": "code",
      "execution_count": 3,
      "metadata": {
        "colab": {
          "base_uri": "https://localhost:8080/"
        },
        "id": "ovdQlnffgkX1",
        "outputId": "d826f6d8-b70f-48ec-9418-964b18fa1d58"
      },
      "outputs": [
        {
          "data": {
            "text/plain": [
              "[PhysicalDevice(name='/physical_device:CPU:0', device_type='CPU')]"
            ]
          },
          "execution_count": 3,
          "metadata": {},
          "output_type": "execute_result"
        }
      ],
      "source": [
        "tf.config.list_physical_devices()"
      ]
    },
    {
      "cell_type": "markdown",
      "metadata": {
        "id": "686q4jZwhYu-"
      },
      "source": [
        "Завантажити дані для навчання (CIFAR10, див. методичні матеріали для готового фрагменту коду);"
      ]
    },
    {
      "cell_type": "code",
      "execution_count": 4,
      "metadata": {
        "colab": {
          "base_uri": "https://localhost:8080/"
        },
        "id": "qGesQMPJij0U",
        "outputId": "a22c910a-cb91-4203-d46b-1ef6d75e1f44"
      },
      "outputs": [
        {
          "name": "stdout",
          "output_type": "stream",
          "text": [
            "Downloading data from https://www.cs.toronto.edu/~kriz/cifar-10-python.tar.gz\n",
            "170498071/170498071 [==============================] - 74s 0us/step\n"
          ]
        }
      ],
      "source": [
        "(x_train, y_train), (x_test, y_test) = tf.keras.datasets.cifar10.load_data()"
      ]
    },
    {
      "cell_type": "code",
      "execution_count": 18,
      "metadata": {},
      "outputs": [],
      "source": [
        "x_train = x_train.astype('float') / 255\n",
        "x_test = x_test.astype('float') / 255"
      ]
    },
    {
      "cell_type": "markdown",
      "metadata": {
        "id": "1-O44d5_he5m"
      },
      "source": [
        "Навчити повнозв’язну нейронну мережу із запропонованою архітектурою (приклад з методичних матеріалів) та налаштуваннями компіляції:"
      ]
    },
    {
      "cell_type": "markdown",
      "metadata": {
        "id": "EMDtqBBhhxgM"
      },
      "source": [
        "Навчити мережу не змінюючи гіперпараметрів, заданих у прикладі;"
      ]
    },
    {
      "cell_type": "code",
      "execution_count": 19,
      "metadata": {
        "id": "IK5wDi7umTDo"
      },
      "outputs": [],
      "source": [
        "id2class = {\n",
        "    idx: name for idx, name in enumerate([\n",
        "        'airplane', 'automobile', 'bird',\n",
        "        'cat', 'deer', 'dog', 'frog',\n",
        "        'horse', 'ship', 'truck'\n",
        "    ])\n",
        "}\n"
      ]
    },
    {
      "cell_type": "markdown",
      "metadata": {
        "id": "39QO4BYAmw_T"
      },
      "source": [
        "Повнозв’язна мережа з Functional API"
      ]
    },
    {
      "cell_type": "code",
      "execution_count": 46,
      "metadata": {
        "id": "fm313yeRjBLU"
      },
      "outputs": [],
      "source": [
        "def construct_model(input_shape: tuple[int,...], dim_per_layer: list[int], n_classes: int) -> tf.keras.Model:\n",
        "    input_x = tf.keras.layers.Input(shape=input_shape)\n",
        "\n",
        "\n",
        "    x = tf.keras.layers.Flatten()(input_x)\n",
        "    for dim in dim_per_layer:\n",
        "        x = tf.keras.layers.Dense(dim, activation='relu')(x)\n",
        "\n",
        "    out_x = tf.keras.layers.Dense(n_classes)(x) # можна додати activation = 'softmax'\n",
        "\n",
        "\n",
        "    return tf.keras.Model(inputs=input_x, outputs=out_x)\n",
        "\n",
        "\n",
        "model = construct_model((32,32,3), dim_per_layer=[125, 125], n_classes=len(id2class))"
      ]
    },
    {
      "cell_type": "code",
      "execution_count": 47,
      "metadata": {
        "id": "4A_idzs1qVQz"
      },
      "outputs": [],
      "source": [
        "model.compile(\n",
        "    optimizer=tf.keras.optimizers.SGD(learning_rate=1e-3, momentum=0.9),\n",
        "    # спарс версія оскільки y_train та y_test містять номери класів\n",
        "    loss=tf.keras.losses.SparseCategoricalCrossentropy(from_logits=True),\n",
        "    metrics=['accuracy']\n",
        ")\n"
      ]
    },
    {
      "cell_type": "code",
      "execution_count": 48,
      "metadata": {
        "colab": {
          "base_uri": "https://localhost:8080/"
        },
        "id": "kidm905gqZso",
        "outputId": "d9b6df90-8fdf-4035-bea3-123ae310dbd3"
      },
      "outputs": [
        {
          "name": "stdout",
          "output_type": "stream",
          "text": [
            "Epoch 1/20\n",
            "1563/1563 [==============================] - 6s 3ms/step - loss: 1.8945 - accuracy: 0.3214 - val_loss: 1.7665 - val_accuracy: 0.3652\n",
            "Epoch 2/20\n",
            "1563/1563 [==============================] - 5s 3ms/step - loss: 1.7108 - accuracy: 0.3925 - val_loss: 1.6520 - val_accuracy: 0.4181\n",
            "Epoch 3/20\n",
            "1563/1563 [==============================] - 5s 3ms/step - loss: 1.6273 - accuracy: 0.4256 - val_loss: 1.5927 - val_accuracy: 0.4393\n",
            "Epoch 4/20\n",
            "1563/1563 [==============================] - 5s 3ms/step - loss: 1.5778 - accuracy: 0.4436 - val_loss: 1.5540 - val_accuracy: 0.4537\n",
            "Epoch 5/20\n",
            "1563/1563 [==============================] - 5s 3ms/step - loss: 1.5369 - accuracy: 0.4560 - val_loss: 1.5346 - val_accuracy: 0.4581\n",
            "Epoch 6/20\n",
            "1563/1563 [==============================] - 5s 3ms/step - loss: 1.5022 - accuracy: 0.4675 - val_loss: 1.5114 - val_accuracy: 0.4627\n",
            "Epoch 7/20\n",
            "1563/1563 [==============================] - 5s 3ms/step - loss: 1.4732 - accuracy: 0.4783 - val_loss: 1.5121 - val_accuracy: 0.4618\n",
            "Epoch 8/20\n",
            "1563/1563 [==============================] - 5s 3ms/step - loss: 1.4449 - accuracy: 0.4868 - val_loss: 1.4676 - val_accuracy: 0.4780\n",
            "Epoch 9/20\n",
            "1563/1563 [==============================] - 6s 4ms/step - loss: 1.4251 - accuracy: 0.4949 - val_loss: 1.4992 - val_accuracy: 0.4668\n",
            "Epoch 10/20\n",
            "1563/1563 [==============================] - 6s 4ms/step - loss: 1.4013 - accuracy: 0.5055 - val_loss: 1.4311 - val_accuracy: 0.4916\n",
            "Epoch 11/20\n",
            "1563/1563 [==============================] - 7s 4ms/step - loss: 1.3854 - accuracy: 0.5090 - val_loss: 1.4520 - val_accuracy: 0.4939\n",
            "Epoch 12/20\n",
            "1563/1563 [==============================] - 7s 4ms/step - loss: 1.3649 - accuracy: 0.5172 - val_loss: 1.4603 - val_accuracy: 0.4799\n",
            "Epoch 13/20\n",
            "1563/1563 [==============================] - 7s 4ms/step - loss: 1.3466 - accuracy: 0.5248 - val_loss: 1.4397 - val_accuracy: 0.4914\n",
            "Epoch 14/20\n",
            "1563/1563 [==============================] - 7s 4ms/step - loss: 1.3291 - accuracy: 0.5296 - val_loss: 1.4540 - val_accuracy: 0.4849\n",
            "Epoch 15/20\n",
            "1563/1563 [==============================] - 7s 4ms/step - loss: 1.3167 - accuracy: 0.5325 - val_loss: 1.4084 - val_accuracy: 0.4990\n",
            "Epoch 16/20\n",
            "1563/1563 [==============================] - 7s 4ms/step - loss: 1.2982 - accuracy: 0.5406 - val_loss: 1.4017 - val_accuracy: 0.5068\n",
            "Epoch 17/20\n",
            "1563/1563 [==============================] - 7s 4ms/step - loss: 1.2835 - accuracy: 0.5450 - val_loss: 1.3968 - val_accuracy: 0.5076\n",
            "Epoch 18/20\n",
            "1563/1563 [==============================] - 7s 4ms/step - loss: 1.2711 - accuracy: 0.5501 - val_loss: 1.3724 - val_accuracy: 0.5172\n",
            "Epoch 19/20\n",
            "1563/1563 [==============================] - 7s 4ms/step - loss: 1.2617 - accuracy: 0.5537 - val_loss: 1.3793 - val_accuracy: 0.5123\n",
            "Epoch 20/20\n",
            "1563/1563 [==============================] - 7s 4ms/step - loss: 1.2446 - accuracy: 0.5596 - val_loss: 1.4007 - val_accuracy: 0.5008\n"
          ]
        }
      ],
      "source": [
        "hist = model.fit(\n",
        "    x=x_train,\n",
        "    y=y_train,\n",
        "    # кількість епох\n",
        "    epochs=20,\n",
        "    # розмір партії даних\n",
        "    batch_size=32,\n",
        "    validation_data=(x_test, y_test)\n",
        ")\n"
      ]
    },
    {
      "cell_type": "markdown",
      "metadata": {},
      "source": [
        "    # кількість епох\n",
        "    epochs=25,\n",
        "    # розмір партії даних\n",
        "    batch_size=32,\n",
        "accuracy: 0.5257"
      ]
    },
    {
      "cell_type": "markdown",
      "metadata": {},
      "source": [
        "    # кількість епох\n",
        "    epochs=20,\n",
        "    # розмір партії даних\n",
        "    batch_size=32,\n",
        "accuracy: 0.5282"
      ]
    },
    {
      "cell_type": "markdown",
      "metadata": {
        "id": "X8wlSx66h0dA"
      },
      "source": [
        "Оцінити метрики моделі на тестовій вибірці;"
      ]
    },
    {
      "cell_type": "code",
      "execution_count": 49,
      "metadata": {
        "colab": {
          "base_uri": "https://localhost:8080/"
        },
        "id": "Mcpqyld7sA7A",
        "outputId": "cf48f18e-99a9-41e2-8346-b0d2fc622ae6"
      },
      "outputs": [
        {
          "name": "stdout",
          "output_type": "stream",
          "text": [
            "313/313 - 0s - loss: 1.4007 - accuracy: 0.5008 - 496ms/epoch - 2ms/step\n"
          ]
        }
      ],
      "source": [
        "test_loss, test_accuracy = model.evaluate(x_test, y_test, verbose=2)"
      ]
    },
    {
      "cell_type": "markdown",
      "metadata": {
        "id": "W011H0lCh2_o"
      },
      "source": [
        "Побудувати криві навчання для моделі (для функції втрат та метрики точності);"
      ]
    },
    {
      "cell_type": "code",
      "execution_count": 17,
      "metadata": {
        "colab": {
          "base_uri": "https://localhost:8080/",
          "height": 407
        },
        "id": "RoJbHdxFwqD5",
        "outputId": "e2dbb915-083e-452f-9449-3d0b5783662d"
      },
      "outputs": [
        {
          "data": {
            "image/png": "[encoded data removed]",
            "text/plain": [
              "<Figure size 576x288 with 2 Axes>"
            ]
          },
          "metadata": {
            "needs_background": "light"
          },
          "output_type": "display_data"
        }
      ],
      "source": [
        "# Візуалізація історії навчання\n",
        "def plot_history(history):\n",
        "    plt.figure(figsize=(8,4))\n",
        "\n",
        "    # Побудова кривої втрат\n",
        "    plt.subplot(1, 2, 1)\n",
        "    plt.plot(history.history['loss'], label='Training Loss')\n",
        "    plt.plot(history.history['val_loss'], label='Validation Loss')\n",
        "    plt.title('Loss Curve')\n",
        "    plt.xlabel('Epoch')\n",
        "    plt.ylabel('Loss')\n",
        "    plt.legend()\n",
        "\n",
        "    # Побудова кривої точності\n",
        "    plt.subplot(1, 2, 2)\n",
        "    plt.plot(history.history['accuracy'], label='Training Accuracy')\n",
        "    plt.plot(history.history['val_accuracy'], label='Validation Accuracy')\n",
        "    plt.title('Accuracy Curve')\n",
        "    plt.xlabel('Epoch')\n",
        "    plt.ylabel('Accuracy')\n",
        "    plt.legend()\n",
        "\n",
        "    plt.tight_layout()\n",
        "    plt.show()\n",
        "\n",
        "# Виклик функції для побудови графіків\n",
        "plot_history(hist)"
      ]
    },
    {
      "cell_type": "markdown",
      "metadata": {
        "id": "ucJ3j3mlh5Qk"
      },
      "source": [
        "Побудувати classification_report та confusion_matrix для результатів моделі на тестовій виборці, зробити висновки;"
      ]
    },
    {
      "cell_type": "code",
      "execution_count": null,
      "metadata": {
        "colab": {
          "base_uri": "https://localhost:8080/"
        },
        "id": "gIesDsHELbNR",
        "outputId": "f293629f-048f-4456-e9bc-4154778556a6"
      },
      "outputs": [
        {
          "name": "stdout",
          "output_type": "stream",
          "text": [
            "313/313 [==============================] - 1s 2ms/step\n"
          ]
        }
      ],
      "source": [
        "# обчислення передбачуваних значень y\n",
        "predictions = model.predict(x_test)\n",
        "# перетворення векторів прогнозів на мітки класів\n",
        "y_pred = np.argmax(predictions, axis=1)"
      ]
    },
    {
      "cell_type": "code",
      "execution_count": null,
      "metadata": {
        "colab": {
          "base_uri": "https://localhost:8080/"
        },
        "id": "pl5U_KICLdln",
        "outputId": "7c9fec07-050f-411f-8350-58dc1936836a"
      },
      "outputs": [
        {
          "data": {
            "text/plain": [
              "array([[   0,    0,    0,    0,    0,    0, 1000,    0,    0,    0],\n",
              "       [   0,    0,    0,    0,    0,    0, 1000,    0,    0,    0],\n",
              "       [   0,    0,    0,    0,    0,    0, 1000,    0,    0,    0],\n",
              "       [   0,    0,    0,    0,    0,    0, 1000,    0,    0,    0],\n",
              "       [   0,    0,    0,    0,    0,    0, 1000,    0,    0,    0],\n",
              "       [   0,    0,    0,    0,    0,    0, 1000,    0,    0,    0],\n",
              "       [   0,    0,    0,    0,    0,    0, 1000,    0,    0,    0],\n",
              "       [   0,    0,    0,    0,    0,    0, 1000,    0,    0,    0],\n",
              "       [   0,    0,    0,    0,    0,    0, 1000,    0,    0,    0],\n",
              "       [   0,    0,    0,    0,    0,    0, 1000,    0,    0,    0]])"
            ]
          },
          "execution_count": 11,
          "metadata": {},
          "output_type": "execute_result"
        }
      ],
      "source": [
        "# матриця помилок\n",
        "confusion_matrix(y_test, y_pred)"
      ]
    },
    {
      "cell_type": "code",
      "execution_count": null,
      "metadata": {
        "colab": {
          "base_uri": "https://localhost:8080/"
        },
        "id": "JOSn7FEwF74E",
        "outputId": "51a50263-3603-4594-eb61-4f688b2d877b"
      },
      "outputs": [
        {
          "name": "stdout",
          "output_type": "stream",
          "text": [
            "              precision    recall  f1-score   support\n",
            "\n",
            "           0       0.00      0.00      0.00      1000\n",
            "           1       0.00      0.00      0.00      1000\n",
            "           2       0.00      0.00      0.00      1000\n",
            "           3       0.00      0.00      0.00      1000\n",
            "           4       0.00      0.00      0.00      1000\n",
            "           5       0.00      0.00      0.00      1000\n",
            "           6       0.10      1.00      0.18      1000\n",
            "           7       0.00      0.00      0.00      1000\n",
            "           8       0.00      0.00      0.00      1000\n",
            "           9       0.00      0.00      0.00      1000\n",
            "\n",
            "    accuracy                           0.10     10000\n",
            "   macro avg       0.01      0.10      0.02     10000\n",
            "weighted avg       0.01      0.10      0.02     10000\n",
            "\n"
          ]
        },
        {
          "name": "stderr",
          "output_type": "stream",
          "text": [
            "/usr/local/lib/python3.10/dist-packages/sklearn/metrics/_classification.py:1344: UndefinedMetricWarning: Precision and F-score are ill-defined and being set to 0.0 in labels with no predicted samples. Use `zero_division` parameter to control this behavior.\n",
            "  _warn_prf(average, modifier, msg_start, len(result))\n",
            "/usr/local/lib/python3.10/dist-packages/sklearn/metrics/_classification.py:1344: UndefinedMetricWarning: Precision and F-score are ill-defined and being set to 0.0 in labels with no predicted samples. Use `zero_division` parameter to control this behavior.\n",
            "  _warn_prf(average, modifier, msg_start, len(result))\n",
            "/usr/local/lib/python3.10/dist-packages/sklearn/metrics/_classification.py:1344: UndefinedMetricWarning: Precision and F-score are ill-defined and being set to 0.0 in labels with no predicted samples. Use `zero_division` parameter to control this behavior.\n",
            "  _warn_prf(average, modifier, msg_start, len(result))\n"
          ]
        }
      ],
      "source": [
        "# звіт класифікації\n",
        "print(classification_report(y_test, y_pred))"
      ]
    },
    {
      "cell_type": "code",
      "execution_count": null,
      "metadata": {
        "colab": {
          "base_uri": "https://localhost:8080/"
        },
        "id": "60XOybVkhwvH",
        "outputId": "4dd2aeb7-bd8b-402c-f5a6-7535c75e0f9d"
      },
      "outputs": [
        {
          "name": "stdout",
          "output_type": "stream",
          "text": [
            "Model: \"model\"\n",
            "_________________________________________________________________\n",
            " Layer (type)                Output Shape              Param #   \n",
            "=================================================================\n",
            " input_1 (InputLayer)        [(None, 32, 32, 3)]       0         \n",
            "                                                                 \n",
            " flatten (Flatten)           (None, 3072)              0         \n",
            "                                                                 \n",
            " dense (Dense)               (None, 100)               307300    \n",
            "                                                                 \n",
            " dense_1 (Dense)             (None, 100)               10100     \n",
            "                                                                 \n",
            " dense_2 (Dense)             (None, 10)                1010      \n",
            "                                                                 \n",
            "=================================================================\n",
            "Total params: 318410 (1.21 MB)\n",
            "Trainable params: 318410 (1.21 MB)\n",
            "Non-trainable params: 0 (0.00 Byte)\n",
            "_________________________________________________________________\n"
          ]
        }
      ],
      "source": [
        "model.summary()"
      ]
    },
    {
      "cell_type": "markdown",
      "metadata": {
        "id": "nF_ROvuyhAw4"
      },
      "source": [
        "Порівняти розміри моделей та час їх навчання;\n",
        "1. Початкова модель - 203.814 s, 1.21 MB; val_accuracy - 0.1"
      ]
    },
    {
      "cell_type": "markdown",
      "metadata": {},
      "source": [
        "    # кількість епох\n",
        "    epochs=20,\n",
        "    # розмір партії даних\n",
        "    batch_size=64\n",
        "    \n",
        "accuracy: 0.5312"
      ]
    },
    {
      "cell_type": "markdown",
      "metadata": {},
      "source": [
        "    # кількість епох\n",
        "    epochs=25,\n",
        "    # розмір партії даних\n",
        "    batch_size=64,\n",
        "accuracy: 0.5992"
      ]
    }
  ],
  "metadata": {
    "accelerator": "GPU",
    "colab": {
      "gpuType": "T4",
      "provenance": []
    },
    "kernelspec": {
      "display_name": "Python 3",
      "name": "python3"
    },
    "language_info": {
      "codemirror_mode": {
        "name": "ipython",
        "version": 3
      },
      "file_extension": ".py",
      "mimetype": "text/x-python",
      "name": "python",
      "nbconvert_exporter": "python",
      "pygments_lexer": "ipython3",
      "version": "3.10.1"
    }
  },
  "nbformat": 4,
  "nbformat_minor": 0
}
