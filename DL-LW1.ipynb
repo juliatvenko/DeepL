{
  "cells": [
    {
      "cell_type": "markdown",
      "metadata": {
        "id": "LBssvjIqhMoI"
      },
      "source": [
        "Підготувати середовище для виконання лабораторної роботи (локальне чи Colab)"
      ]
    },
    {
      "cell_type": "code",
      "execution_count": 31,
      "metadata": {
        "id": "kzAA-FN0gSXv"
      },
      "outputs": [],
      "source": [
        "import tensorflow as tf\n",
        "import matplotlib.pyplot as plt\n",
        "from sklearn.metrics import classification_report, confusion_matrix\n",
        "import numpy as np\n",
        "from keras.preprocessing import image"
      ]
    },
    {
      "cell_type": "code",
      "execution_count": 4,
      "metadata": {
        "colab": {
          "base_uri": "https://localhost:8080/"
        },
        "id": "ovdQlnffgkX1",
        "outputId": "d826f6d8-b70f-48ec-9418-964b18fa1d58"
      },
      "outputs": [
        {
          "data": {
            "text/plain": [
              "[PhysicalDevice(name='/physical_device:CPU:0', device_type='CPU')]"
            ]
          },
          "execution_count": 4,
          "metadata": {},
          "output_type": "execute_result"
        }
      ],
      "source": [
        "tf.config.list_physical_devices()"
      ]
    },
    {
      "cell_type": "markdown",
      "metadata": {
        "id": "686q4jZwhYu-"
      },
      "source": [
        "Завантажити дані для навчання (CIFAR10, див. методичні матеріали для готового фрагменту коду);"
      ]
    },
    {
      "cell_type": "code",
      "execution_count": 5,
      "metadata": {
        "colab": {
          "base_uri": "https://localhost:8080/"
        },
        "id": "qGesQMPJij0U",
        "outputId": "a22c910a-cb91-4203-d46b-1ef6d75e1f44"
      },
      "outputs": [],
      "source": [
        "(x_train, y_train), (x_test, y_test) = tf.keras.datasets.cifar10.load_data()"
      ]
    },
    {
      "cell_type": "code",
      "execution_count": 6,
      "metadata": {},
      "outputs": [],
      "source": [
        "x_train = x_train.astype('float') / 255\n",
        "x_test = x_test.astype('float') / 255"
      ]
    },
    {
      "cell_type": "markdown",
      "metadata": {},
      "source": [
        "Відображення від номера класу до його назви"
      ]
    },
    {
      "cell_type": "code",
      "execution_count": 7,
      "metadata": {},
      "outputs": [],
      "source": [
        "id2class = {\n",
        "    idx: name for idx, name in enumerate([\n",
        "        'airplane', 'automobile', 'bird',\n",
        "        'cat', 'deer', 'dog', 'frog',\n",
        "        'horse', 'ship', 'truck'\n",
        "    ])\n",
        "}"
      ]
    },
    {
      "cell_type": "markdown",
      "metadata": {},
      "source": [
        "Візуалізація зображень"
      ]
    },
    {
      "cell_type": "code",
      "execution_count": 8,
      "metadata": {},
      "outputs": [],
      "source": [
        "def display_cifar_images(\n",
        "    x: np.ndarray,\n",
        "    y: np.ndarray,\n",
        "    id2class: dict[int, str],\n",
        "    n: int = 4\n",
        "):\n",
        "    random_images_indices = np.random.randint(0, x.shape[0], n)\n",
        "    images = x[random_images_indices]\n",
        "    classes = [id2class[y[idx, 0]] for idx in random_images_indices]\n",
        "\n",
        "\n",
        "    f, axs = plt.subplots(1, n, figsize=((3*n, 3)))\n",
        "    for image, name, ax in zip(images, classes, axs):\n",
        "        ax.imshow(image)\n",
        "        ax.axis('off')\n",
        "        ax.set(title=f\"Class: {name}\")\n",
        "   \n",
        "    plt.show()"
      ]
    },
    {
      "cell_type": "code",
      "execution_count": 9,
      "metadata": {},
      "outputs": [
        {
          "data": {
            "image/png": "[encoded data removed]",
            "text/plain": [
              "<Figure size 864x216 with 4 Axes>"
            ]
          },
          "metadata": {
            "needs_background": "light"
          },
          "output_type": "display_data"
        }
      ],
      "source": [
        "display_cifar_images(x_train, y_train, id2class)"
      ]
    },
    {
      "cell_type": "markdown",
      "metadata": {
        "id": "1-O44d5_he5m"
      },
      "source": [
        "Навчити повнозв’язну нейронну мережу із запропонованою архітектурою (приклад з методичних матеріалів) та налаштуваннями компіляції:"
      ]
    },
    {
      "cell_type": "markdown",
      "metadata": {
        "id": "EMDtqBBhhxgM"
      },
      "source": [
        "Навчити мережу не змінюючи гіперпараметрів, заданих у прикладі;"
      ]
    },
    {
      "cell_type": "markdown",
      "metadata": {
        "id": "39QO4BYAmw_T"
      },
      "source": [
        "Повнозв’язна мережа з Functional API"
      ]
    },
    {
      "cell_type": "code",
      "execution_count": 10,
      "metadata": {
        "id": "fm313yeRjBLU"
      },
      "outputs": [],
      "source": [
        "def construct_model(input_shape: tuple[int,...], dim_per_layer: list[int], n_classes: int) -> tf.keras.Model:\n",
        "    input_x = tf.keras.layers.Input(shape=input_shape)\n",
        "\n",
        "\n",
        "    x = tf.keras.layers.Flatten()(input_x)\n",
        "    for dim in dim_per_layer:\n",
        "        x = tf.keras.layers.Dense(dim, activation='relu')(x)\n",
        "\n",
        "    out_x = tf.keras.layers.Dense(n_classes)(x) # можна додати activation = 'softmax'\n",
        "\n",
        "\n",
        "    return tf.keras.Model(inputs=input_x, outputs=out_x)\n",
        "\n",
        "\n",
        "model1 = construct_model((32,32,3), dim_per_layer=[100, 100], n_classes=len(id2class))"
      ]
    },
    {
      "cell_type": "code",
      "execution_count": 11,
      "metadata": {
        "id": "4A_idzs1qVQz"
      },
      "outputs": [],
      "source": [
        "model1.compile(\n",
        "    optimizer=tf.keras.optimizers.SGD(learning_rate=1e-3, momentum=0.9),\n",
        "    # спарс версія оскільки y_train та y_test містять номери класів\n",
        "    loss=tf.keras.losses.SparseCategoricalCrossentropy(from_logits=True),\n",
        "    metrics=['accuracy']\n",
        ")\n"
      ]
    },
    {
      "cell_type": "code",
      "execution_count": 12,
      "metadata": {
        "colab": {
          "base_uri": "https://localhost:8080/"
        },
        "id": "kidm905gqZso",
        "outputId": "d9b6df90-8fdf-4035-bea3-123ae310dbd3"
      },
      "outputs": [
        {
          "name": "stdout",
          "output_type": "stream",
          "text": [
            "Epoch 1/100\n",
            "391/391 [==============================] - 3s 6ms/step - loss: 2.0272 - accuracy: 0.2721 - val_loss: 1.8906 - val_accuracy: 0.3280\n",
            "Epoch 2/100\n",
            "391/391 [==============================] - 2s 5ms/step - loss: 1.8360 - accuracy: 0.3513 - val_loss: 1.8047 - val_accuracy: 0.3565\n",
            "Epoch 3/100\n",
            "391/391 [==============================] - 2s 5ms/step - loss: 1.7707 - accuracy: 0.3766 - val_loss: 1.7396 - val_accuracy: 0.3870\n",
            "Epoch 4/100\n",
            "391/391 [==============================] - 2s 5ms/step - loss: 1.7252 - accuracy: 0.3946 - val_loss: 1.7074 - val_accuracy: 0.3993\n",
            "Epoch 5/100\n",
            "391/391 [==============================] - 2s 5ms/step - loss: 1.6895 - accuracy: 0.4093 - val_loss: 1.6684 - val_accuracy: 0.4138\n",
            "Epoch 6/100\n",
            "391/391 [==============================] - 2s 5ms/step - loss: 1.6577 - accuracy: 0.4189 - val_loss: 1.6482 - val_accuracy: 0.4190\n",
            "Epoch 7/100\n",
            "391/391 [==============================] - 2s 5ms/step - loss: 1.6306 - accuracy: 0.4301 - val_loss: 1.6266 - val_accuracy: 0.4293\n",
            "Epoch 8/100\n",
            "391/391 [==============================] - 2s 5ms/step - loss: 1.6060 - accuracy: 0.4377 - val_loss: 1.6044 - val_accuracy: 0.4360\n",
            "Epoch 9/100\n",
            "391/391 [==============================] - 2s 6ms/step - loss: 1.5845 - accuracy: 0.4463 - val_loss: 1.5865 - val_accuracy: 0.4399\n",
            "Epoch 10/100\n",
            "391/391 [==============================] - 2s 6ms/step - loss: 1.5717 - accuracy: 0.4473 - val_loss: 1.5829 - val_accuracy: 0.4420\n",
            "Epoch 11/100\n",
            "391/391 [==============================] - 2s 6ms/step - loss: 1.5506 - accuracy: 0.4576 - val_loss: 1.5690 - val_accuracy: 0.4461\n",
            "Epoch 12/100\n",
            "391/391 [==============================] - 2s 6ms/step - loss: 1.5350 - accuracy: 0.4616 - val_loss: 1.5388 - val_accuracy: 0.4576\n",
            "Epoch 13/100\n",
            "391/391 [==============================] - 2s 6ms/step - loss: 1.5211 - accuracy: 0.4660 - val_loss: 1.5423 - val_accuracy: 0.4558\n",
            "Epoch 14/100\n",
            "391/391 [==============================] - 2s 6ms/step - loss: 1.5055 - accuracy: 0.4728 - val_loss: 1.5252 - val_accuracy: 0.4662\n",
            "Epoch 15/100\n",
            "391/391 [==============================] - 2s 6ms/step - loss: 1.4915 - accuracy: 0.4762 - val_loss: 1.5107 - val_accuracy: 0.4694\n",
            "Epoch 16/100\n",
            "391/391 [==============================] - 2s 6ms/step - loss: 1.4792 - accuracy: 0.4825 - val_loss: 1.5021 - val_accuracy: 0.4713\n",
            "Epoch 17/100\n",
            "391/391 [==============================] - 2s 6ms/step - loss: 1.4680 - accuracy: 0.4846 - val_loss: 1.5052 - val_accuracy: 0.4640\n",
            "Epoch 18/100\n",
            "391/391 [==============================] - 2s 6ms/step - loss: 1.4547 - accuracy: 0.4891 - val_loss: 1.5092 - val_accuracy: 0.4614\n",
            "Epoch 19/100\n",
            "391/391 [==============================] - 2s 6ms/step - loss: 1.4444 - accuracy: 0.4921 - val_loss: 1.4871 - val_accuracy: 0.4733\n",
            "Epoch 20/100\n",
            "391/391 [==============================] - 2s 6ms/step - loss: 1.4335 - accuracy: 0.4954 - val_loss: 1.4724 - val_accuracy: 0.4802\n",
            "Epoch 21/100\n",
            "391/391 [==============================] - 2s 6ms/step - loss: 1.4226 - accuracy: 0.5012 - val_loss: 1.4798 - val_accuracy: 0.4800\n",
            "Epoch 22/100\n",
            "391/391 [==============================] - 3s 7ms/step - loss: 1.4087 - accuracy: 0.5052 - val_loss: 1.4696 - val_accuracy: 0.4816\n",
            "Epoch 23/100\n",
            "391/391 [==============================] - 3s 9ms/step - loss: 1.3998 - accuracy: 0.5060 - val_loss: 1.4468 - val_accuracy: 0.4909\n",
            "Epoch 24/100\n",
            "391/391 [==============================] - 3s 8ms/step - loss: 1.3927 - accuracy: 0.5116 - val_loss: 1.4455 - val_accuracy: 0.4933\n",
            "Epoch 25/100\n",
            "391/391 [==============================] - 3s 9ms/step - loss: 1.3839 - accuracy: 0.5118 - val_loss: 1.4378 - val_accuracy: 0.4929\n",
            "Epoch 26/100\n",
            "391/391 [==============================] - 3s 8ms/step - loss: 1.3722 - accuracy: 0.5190 - val_loss: 1.4462 - val_accuracy: 0.4903\n",
            "Epoch 27/100\n",
            "391/391 [==============================] - 2s 5ms/step - loss: 1.3643 - accuracy: 0.5208 - val_loss: 1.4388 - val_accuracy: 0.4911\n",
            "Epoch 28/100\n",
            "391/391 [==============================] - 2s 5ms/step - loss: 1.3601 - accuracy: 0.5213 - val_loss: 1.4262 - val_accuracy: 0.4960\n",
            "Epoch 29/100\n",
            "391/391 [==============================] - 2s 5ms/step - loss: 1.3465 - accuracy: 0.5256 - val_loss: 1.4447 - val_accuracy: 0.4892\n",
            "Epoch 30/100\n",
            "391/391 [==============================] - 2s 6ms/step - loss: 1.3434 - accuracy: 0.5278 - val_loss: 1.4321 - val_accuracy: 0.4951\n",
            "Epoch 31/100\n",
            "391/391 [==============================] - 2s 6ms/step - loss: 1.3329 - accuracy: 0.5309 - val_loss: 1.4245 - val_accuracy: 0.4954\n",
            "Epoch 32/100\n",
            "391/391 [==============================] - 2s 6ms/step - loss: 1.3305 - accuracy: 0.5305 - val_loss: 1.4390 - val_accuracy: 0.4892\n",
            "Epoch 33/100\n",
            "391/391 [==============================] - 2s 6ms/step - loss: 1.3168 - accuracy: 0.5371 - val_loss: 1.4350 - val_accuracy: 0.4939\n",
            "Epoch 34/100\n",
            "391/391 [==============================] - 4s 10ms/step - loss: 1.3107 - accuracy: 0.5385 - val_loss: 1.4035 - val_accuracy: 0.5095\n",
            "Epoch 35/100\n",
            "391/391 [==============================] - 4s 9ms/step - loss: 1.3061 - accuracy: 0.5394 - val_loss: 1.3955 - val_accuracy: 0.5093\n",
            "Epoch 36/100\n",
            "391/391 [==============================] - 3s 9ms/step - loss: 1.2976 - accuracy: 0.5436 - val_loss: 1.3954 - val_accuracy: 0.5051\n",
            "Epoch 37/100\n",
            "391/391 [==============================] - 3s 8ms/step - loss: 1.2892 - accuracy: 0.5470 - val_loss: 1.4173 - val_accuracy: 0.4929\n",
            "Epoch 38/100\n",
            "391/391 [==============================] - 3s 9ms/step - loss: 1.2831 - accuracy: 0.5488 - val_loss: 1.4032 - val_accuracy: 0.5056\n",
            "Epoch 39/100\n",
            "391/391 [==============================] - 3s 8ms/step - loss: 1.2794 - accuracy: 0.5496 - val_loss: 1.3944 - val_accuracy: 0.5096\n",
            "Epoch 40/100\n",
            "391/391 [==============================] - 3s 8ms/step - loss: 1.2729 - accuracy: 0.5518 - val_loss: 1.3862 - val_accuracy: 0.5138\n",
            "Epoch 41/100\n",
            "391/391 [==============================] - 3s 7ms/step - loss: 1.2641 - accuracy: 0.5547 - val_loss: 1.4082 - val_accuracy: 0.5000\n",
            "Epoch 42/100\n",
            "391/391 [==============================] - 3s 7ms/step - loss: 1.2573 - accuracy: 0.5568 - val_loss: 1.3877 - val_accuracy: 0.5107\n",
            "Epoch 43/100\n",
            "391/391 [==============================] - 3s 8ms/step - loss: 1.2541 - accuracy: 0.5608 - val_loss: 1.3915 - val_accuracy: 0.5096\n",
            "Epoch 44/100\n",
            "391/391 [==============================] - 4s 9ms/step - loss: 1.2511 - accuracy: 0.5585 - val_loss: 1.3746 - val_accuracy: 0.5164\n",
            "Epoch 45/100\n",
            "391/391 [==============================] - 4s 10ms/step - loss: 1.2397 - accuracy: 0.5643 - val_loss: 1.3942 - val_accuracy: 0.5093\n",
            "Epoch 46/100\n",
            "391/391 [==============================] - 4s 9ms/step - loss: 1.2369 - accuracy: 0.5648 - val_loss: 1.4000 - val_accuracy: 0.5027\n",
            "Epoch 47/100\n",
            "391/391 [==============================] - 4s 9ms/step - loss: 1.2326 - accuracy: 0.5657 - val_loss: 1.3699 - val_accuracy: 0.5189\n",
            "Epoch 48/100\n",
            "391/391 [==============================] - 4s 9ms/step - loss: 1.2286 - accuracy: 0.5675 - val_loss: 1.3757 - val_accuracy: 0.5115\n",
            "Epoch 49/100\n",
            "391/391 [==============================] - 4s 9ms/step - loss: 1.2235 - accuracy: 0.5698 - val_loss: 1.3645 - val_accuracy: 0.5211\n",
            "Epoch 50/100\n",
            "391/391 [==============================] - 4s 9ms/step - loss: 1.2163 - accuracy: 0.5730 - val_loss: 1.3980 - val_accuracy: 0.5093\n",
            "Epoch 51/100\n",
            "391/391 [==============================] - 4s 9ms/step - loss: 1.2102 - accuracy: 0.5730 - val_loss: 1.3742 - val_accuracy: 0.5135\n",
            "Epoch 52/100\n",
            "391/391 [==============================] - 4s 9ms/step - loss: 1.2031 - accuracy: 0.5764 - val_loss: 1.4218 - val_accuracy: 0.5038\n",
            "Epoch 53/100\n",
            "391/391 [==============================] - 3s 9ms/step - loss: 1.1999 - accuracy: 0.5764 - val_loss: 1.3629 - val_accuracy: 0.5229\n",
            "Epoch 54/100\n",
            "391/391 [==============================] - 3s 9ms/step - loss: 1.1941 - accuracy: 0.5777 - val_loss: 1.3793 - val_accuracy: 0.5143\n",
            "Epoch 55/100\n",
            "391/391 [==============================] - 4s 9ms/step - loss: 1.1881 - accuracy: 0.5812 - val_loss: 1.3699 - val_accuracy: 0.5134\n",
            "Epoch 56/100\n",
            "391/391 [==============================] - 4s 9ms/step - loss: 1.1852 - accuracy: 0.5810 - val_loss: 1.3761 - val_accuracy: 0.5159\n",
            "Epoch 57/100\n",
            "391/391 [==============================] - 4s 9ms/step - loss: 1.1809 - accuracy: 0.5834 - val_loss: 1.3879 - val_accuracy: 0.5128\n",
            "Epoch 58/100\n",
            "391/391 [==============================] - 4s 9ms/step - loss: 1.1808 - accuracy: 0.5840 - val_loss: 1.3905 - val_accuracy: 0.5089\n",
            "Epoch 59/100\n",
            "391/391 [==============================] - 4s 9ms/step - loss: 1.1774 - accuracy: 0.5826 - val_loss: 1.3710 - val_accuracy: 0.5179\n",
            "Epoch 60/100\n",
            "391/391 [==============================] - 3s 8ms/step - loss: 1.1661 - accuracy: 0.5893 - val_loss: 1.3728 - val_accuracy: 0.5237\n",
            "Epoch 61/100\n",
            "391/391 [==============================] - 3s 9ms/step - loss: 1.1649 - accuracy: 0.5891 - val_loss: 1.4007 - val_accuracy: 0.5053\n",
            "Epoch 62/100\n",
            "391/391 [==============================] - 3s 9ms/step - loss: 1.1587 - accuracy: 0.5912 - val_loss: 1.3750 - val_accuracy: 0.5182\n",
            "Epoch 63/100\n",
            "391/391 [==============================] - 3s 9ms/step - loss: 1.1527 - accuracy: 0.5923 - val_loss: 1.3707 - val_accuracy: 0.5187\n",
            "Epoch 64/100\n",
            "391/391 [==============================] - 3s 9ms/step - loss: 1.1492 - accuracy: 0.5951 - val_loss: 1.3976 - val_accuracy: 0.5064\n",
            "Epoch 65/100\n",
            "391/391 [==============================] - 3s 8ms/step - loss: 1.1478 - accuracy: 0.5962 - val_loss: 1.4010 - val_accuracy: 0.5067\n",
            "Epoch 66/100\n",
            "391/391 [==============================] - 3s 8ms/step - loss: 1.1394 - accuracy: 0.5991 - val_loss: 1.3723 - val_accuracy: 0.5177\n",
            "Epoch 67/100\n",
            "391/391 [==============================] - 3s 9ms/step - loss: 1.1360 - accuracy: 0.5989 - val_loss: 1.3729 - val_accuracy: 0.5209\n",
            "Epoch 68/100\n",
            "391/391 [==============================] - 3s 9ms/step - loss: 1.1292 - accuracy: 0.6011 - val_loss: 1.3799 - val_accuracy: 0.5166\n",
            "Epoch 69/100\n",
            "391/391 [==============================] - 3s 9ms/step - loss: 1.1290 - accuracy: 0.6014 - val_loss: 1.3649 - val_accuracy: 0.5220\n",
            "Epoch 70/100\n",
            "391/391 [==============================] - 2s 6ms/step - loss: 1.1274 - accuracy: 0.6034 - val_loss: 1.3966 - val_accuracy: 0.5132\n",
            "Epoch 71/100\n",
            "391/391 [==============================] - 2s 5ms/step - loss: 1.1224 - accuracy: 0.6026 - val_loss: 1.3826 - val_accuracy: 0.5219\n",
            "Epoch 72/100\n",
            "391/391 [==============================] - 2s 5ms/step - loss: 1.1215 - accuracy: 0.6029 - val_loss: 1.3738 - val_accuracy: 0.5195\n",
            "Epoch 73/100\n",
            "391/391 [==============================] - 2s 5ms/step - loss: 1.1121 - accuracy: 0.6087 - val_loss: 1.3904 - val_accuracy: 0.5121\n",
            "Epoch 74/100\n",
            "391/391 [==============================] - 2s 6ms/step - loss: 1.1079 - accuracy: 0.6108 - val_loss: 1.3603 - val_accuracy: 0.5219\n",
            "Epoch 75/100\n",
            "391/391 [==============================] - 3s 7ms/step - loss: 1.1024 - accuracy: 0.6103 - val_loss: 1.3783 - val_accuracy: 0.5199\n",
            "Epoch 76/100\n",
            "391/391 [==============================] - 3s 8ms/step - loss: 1.0984 - accuracy: 0.6109 - val_loss: 1.4060 - val_accuracy: 0.5095\n",
            "Epoch 77/100\n",
            "391/391 [==============================] - 3s 9ms/step - loss: 1.0959 - accuracy: 0.6140 - val_loss: 1.3840 - val_accuracy: 0.5164\n",
            "Epoch 78/100\n",
            "391/391 [==============================] - 3s 9ms/step - loss: 1.0903 - accuracy: 0.6161 - val_loss: 1.3463 - val_accuracy: 0.5253\n",
            "Epoch 79/100\n",
            "391/391 [==============================] - 4s 9ms/step - loss: 1.0810 - accuracy: 0.6191 - val_loss: 1.3665 - val_accuracy: 0.5244\n",
            "Epoch 80/100\n",
            "391/391 [==============================] - 3s 8ms/step - loss: 1.0807 - accuracy: 0.6203 - val_loss: 1.3755 - val_accuracy: 0.5248\n",
            "Epoch 81/100\n",
            "391/391 [==============================] - 3s 8ms/step - loss: 1.0813 - accuracy: 0.6169 - val_loss: 1.3764 - val_accuracy: 0.5177\n",
            "Epoch 82/100\n",
            "391/391 [==============================] - 3s 9ms/step - loss: 1.0795 - accuracy: 0.6198 - val_loss: 1.3826 - val_accuracy: 0.5147\n",
            "Epoch 83/100\n",
            "391/391 [==============================] - 4s 9ms/step - loss: 1.0706 - accuracy: 0.6226 - val_loss: 1.3860 - val_accuracy: 0.5194\n",
            "Epoch 84/100\n",
            "391/391 [==============================] - 3s 9ms/step - loss: 1.0716 - accuracy: 0.6227 - val_loss: 1.3859 - val_accuracy: 0.5184\n",
            "Epoch 85/100\n",
            "391/391 [==============================] - 3s 9ms/step - loss: 1.0666 - accuracy: 0.6237 - val_loss: 1.3651 - val_accuracy: 0.5268\n",
            "Epoch 86/100\n",
            "391/391 [==============================] - 3s 8ms/step - loss: 1.0602 - accuracy: 0.6272 - val_loss: 1.3951 - val_accuracy: 0.5179\n",
            "Epoch 87/100\n",
            "391/391 [==============================] - 3s 9ms/step - loss: 1.0579 - accuracy: 0.6288 - val_loss: 1.3806 - val_accuracy: 0.5249\n",
            "Epoch 88/100\n",
            "391/391 [==============================] - 3s 9ms/step - loss: 1.0588 - accuracy: 0.6277 - val_loss: 1.3776 - val_accuracy: 0.5205\n",
            "Epoch 89/100\n",
            "391/391 [==============================] - 3s 9ms/step - loss: 1.0473 - accuracy: 0.6311 - val_loss: 1.3759 - val_accuracy: 0.5224\n",
            "Epoch 90/100\n",
            "391/391 [==============================] - 3s 9ms/step - loss: 1.0460 - accuracy: 0.6313 - val_loss: 1.3858 - val_accuracy: 0.5243\n",
            "Epoch 91/100\n",
            "391/391 [==============================] - 4s 9ms/step - loss: 1.0414 - accuracy: 0.6318 - val_loss: 1.3727 - val_accuracy: 0.5234\n",
            "Epoch 92/100\n",
            "391/391 [==============================] - 4s 9ms/step - loss: 1.0393 - accuracy: 0.6323 - val_loss: 1.3738 - val_accuracy: 0.5222\n",
            "Epoch 93/100\n",
            "391/391 [==============================] - 4s 9ms/step - loss: 1.0337 - accuracy: 0.6339 - val_loss: 1.3942 - val_accuracy: 0.5220\n",
            "Epoch 94/100\n",
            "391/391 [==============================] - 3s 8ms/step - loss: 1.0337 - accuracy: 0.6351 - val_loss: 1.3827 - val_accuracy: 0.5212\n",
            "Epoch 95/100\n",
            "391/391 [==============================] - 3s 8ms/step - loss: 1.0285 - accuracy: 0.6388 - val_loss: 1.3776 - val_accuracy: 0.5197\n",
            "Epoch 96/100\n",
            "391/391 [==============================] - 3s 7ms/step - loss: 1.0293 - accuracy: 0.6388 - val_loss: 1.3907 - val_accuracy: 0.5240\n",
            "Epoch 97/100\n",
            "391/391 [==============================] - 2s 5ms/step - loss: 1.0213 - accuracy: 0.6416 - val_loss: 1.3863 - val_accuracy: 0.5235\n",
            "Epoch 98/100\n",
            "391/391 [==============================] - 2s 6ms/step - loss: 1.0191 - accuracy: 0.6402 - val_loss: 1.3840 - val_accuracy: 0.5201\n",
            "Epoch 99/100\n",
            "391/391 [==============================] - 2s 6ms/step - loss: 1.0186 - accuracy: 0.6413 - val_loss: 1.4009 - val_accuracy: 0.5200\n",
            "Epoch 100/100\n",
            "391/391 [==============================] - 3s 8ms/step - loss: 1.0102 - accuracy: 0.6435 - val_loss: 1.4074 - val_accuracy: 0.5211\n"
          ]
        }
      ],
      "source": [
        "hist1 = model1.fit(\n",
        "    x=x_train,\n",
        "    y=y_train,\n",
        "    # кількість епох\n",
        "    epochs=100,\n",
        "    # розмір партії даних\n",
        "    batch_size=128,\n",
        "    validation_data=(x_test, y_test)\n",
        ")\n"
      ]
    },
    {
      "cell_type": "markdown",
      "metadata": {
        "id": "X8wlSx66h0dA"
      },
      "source": [
        "Оцінити метрики моделі на тестовій вибірці;"
      ]
    },
    {
      "cell_type": "code",
      "execution_count": 13,
      "metadata": {
        "colab": {
          "base_uri": "https://localhost:8080/"
        },
        "id": "Mcpqyld7sA7A",
        "outputId": "cf48f18e-99a9-41e2-8346-b0d2fc622ae6"
      },
      "outputs": [
        {
          "name": "stdout",
          "output_type": "stream",
          "text": [
            "313/313 - 1s - loss: 1.4074 - accuracy: 0.5211 - 608ms/epoch - 2ms/step\n"
          ]
        }
      ],
      "source": [
        "test_loss1, test_accuracy1 = model1.evaluate(x_test, y_test, verbose=2)"
      ]
    },
    {
      "cell_type": "markdown",
      "metadata": {
        "id": "W011H0lCh2_o"
      },
      "source": [
        "Побудувати криві навчання для моделі (для функції втрат та метрики точності);"
      ]
    },
    {
      "cell_type": "code",
      "execution_count": 14,
      "metadata": {},
      "outputs": [],
      "source": [
        "def plot_history(history):\n",
        "    plt.figure(figsize=(15,8))\n",
        "\n",
        "    # Побудова кривої втрат\n",
        "    plt.subplot(1, 2, 1)\n",
        "    plt.plot(history.history['loss'], label='Training Loss')\n",
        "    plt.plot(history.history['val_loss'], label='Validation Loss')\n",
        "    plt.title('Loss Curve')\n",
        "    plt.xlabel('Epoch')\n",
        "    plt.ylabel('Loss')\n",
        "    plt.legend()\n",
        "\n",
        "    # Побудова кривої точності\n",
        "    plt.subplot(1, 2, 2)\n",
        "    plt.plot(history.history['accuracy'], label='Training Accuracy')\n",
        "    plt.plot(history.history['val_accuracy'], label='Validation Accuracy')\n",
        "    plt.title('Accuracy Curve')\n",
        "    plt.xlabel('Epoch')\n",
        "    plt.ylabel('Accuracy')\n",
        "    plt.legend()\n",
        "\n",
        "    plt.tight_layout()\n",
        "    plt.show()"
      ]
    },
    {
      "cell_type": "code",
      "execution_count": 15,
      "metadata": {
        "colab": {
          "base_uri": "https://localhost:8080/",
          "height": 407
        },
        "id": "RoJbHdxFwqD5",
        "outputId": "e2dbb915-083e-452f-9449-3d0b5783662d"
      },
      "outputs": [
        {
          "data": {
            "image/png": "[encoded data removed]",
            "text/plain": [
              "<Figure size 1080x576 with 2 Axes>"
            ]
          },
          "metadata": {
            "needs_background": "light"
          },
          "output_type": "display_data"
        }
      ],
      "source": [
        "plot_history(hist1)"
      ]
    },
    {
      "cell_type": "markdown",
      "metadata": {
        "id": "ucJ3j3mlh5Qk"
      },
      "source": [
        "Побудувати classification_report та confusion_matrix для результатів моделі на тестовій виборці, зробити висновки;"
      ]
    },
    {
      "cell_type": "code",
      "execution_count": 16,
      "metadata": {
        "colab": {
          "base_uri": "https://localhost:8080/"
        },
        "id": "gIesDsHELbNR",
        "outputId": "f293629f-048f-4456-e9bc-4154778556a6"
      },
      "outputs": [
        {
          "name": "stdout",
          "output_type": "stream",
          "text": [
            "313/313 [==============================] - 1s 2ms/step\n"
          ]
        }
      ],
      "source": [
        "# обчислення передбачуваних значень y\n",
        "predictions1 = model1.predict(x_test)\n",
        "# перетворення векторів прогнозів на мітки класів\n",
        "y_pred1 = np.argmax(predictions1, axis=1)"
      ]
    },
    {
      "cell_type": "code",
      "execution_count": 17,
      "metadata": {
        "colab": {
          "base_uri": "https://localhost:8080/"
        },
        "id": "pl5U_KICLdln",
        "outputId": "7c9fec07-050f-411f-8350-58dc1936836a"
      },
      "outputs": [
        {
          "data": {
            "text/plain": [
              "array([[443,  55,  61,  16,  81,  21,  12,  41, 216,  54],\n",
              "       [ 20, 675,   9,  16,  13,  13,  11,  24,  84, 135],\n",
              "       [ 43,  27, 337,  63, 232, 104,  67,  78,  22,  27],\n",
              "       [ 13,  31,  72, 270, 128, 253,  78,  74,  40,  41],\n",
              "       [ 27,  14,  74,  41, 585,  52,  59, 100,  32,  16],\n",
              "       [  9,  16,  58, 153, 112, 471,  39,  84,  30,  28],\n",
              "       [  5,  24,  67,  72, 171,  77, 510,  26,  27,  21],\n",
              "       [ 18,  31,  30,  37, 119,  77,  10, 622,  13,  43],\n",
              "       [ 42,  79,  14,  19,  31,  16,   5,  14, 728,  52],\n",
              "       [ 13, 205,   7,  25,  14,  21,   8,  59,  78, 570]], dtype=int64)"
            ]
          },
          "execution_count": 17,
          "metadata": {},
          "output_type": "execute_result"
        }
      ],
      "source": [
        "# матриця помилок\n",
        "confusion_matrix(y_test, y_pred1)"
      ]
    },
    {
      "cell_type": "code",
      "execution_count": 18,
      "metadata": {
        "colab": {
          "base_uri": "https://localhost:8080/"
        },
        "id": "JOSn7FEwF74E",
        "outputId": "51a50263-3603-4594-eb61-4f688b2d877b"
      },
      "outputs": [
        {
          "name": "stdout",
          "output_type": "stream",
          "text": [
            "              precision    recall  f1-score   support\n",
            "\n",
            "           0       0.70      0.44      0.54      1000\n",
            "           1       0.58      0.68      0.63      1000\n",
            "           2       0.46      0.34      0.39      1000\n",
            "           3       0.38      0.27      0.32      1000\n",
            "           4       0.39      0.58      0.47      1000\n",
            "           5       0.43      0.47      0.45      1000\n",
            "           6       0.64      0.51      0.57      1000\n",
            "           7       0.55      0.62      0.59      1000\n",
            "           8       0.57      0.73      0.64      1000\n",
            "           9       0.58      0.57      0.57      1000\n",
            "\n",
            "    accuracy                           0.52     10000\n",
            "   macro avg       0.53      0.52      0.52     10000\n",
            "weighted avg       0.53      0.52      0.52     10000\n",
            "\n"
          ]
        }
      ],
      "source": [
        "# звіт класифікації\n",
        "print(classification_report(y_test, y_pred1))"
      ]
    },
    {
      "cell_type": "code",
      "execution_count": 19,
      "metadata": {
        "colab": {
          "base_uri": "https://localhost:8080/"
        },
        "id": "60XOybVkhwvH",
        "outputId": "4dd2aeb7-bd8b-402c-f5a6-7535c75e0f9d"
      },
      "outputs": [
        {
          "name": "stdout",
          "output_type": "stream",
          "text": [
            "Model: \"model\"\n",
            "_________________________________________________________________\n",
            " Layer (type)                Output Shape              Param #   \n",
            "=================================================================\n",
            " input_1 (InputLayer)        [(None, 32, 32, 3)]       0         \n",
            "                                                                 \n",
            " flatten (Flatten)           (None, 3072)              0         \n",
            "                                                                 \n",
            " dense (Dense)               (None, 100)               307300    \n",
            "                                                                 \n",
            " dense_1 (Dense)             (None, 100)               10100     \n",
            "                                                                 \n",
            " dense_2 (Dense)             (None, 10)                1010      \n",
            "                                                                 \n",
            "=================================================================\n",
            "Total params: 318410 (1.21 MB)\n",
            "Trainable params: 318410 (1.21 MB)\n",
            "Non-trainable params: 0 (0.00 Byte)\n",
            "_________________________________________________________________\n"
          ]
        }
      ],
      "source": [
        "model1.summary()"
      ]
    },
    {
      "cell_type": "code",
      "execution_count": 27,
      "metadata": {},
      "outputs": [
        {
          "name": "stdout",
          "output_type": "stream",
          "text": [
            "Epoch 1/50\n",
            "1563/1563 [==============================] - 42s 26ms/step - loss: 1.8242 - accuracy: 0.3495 - val_loss: 1.7182 - val_accuracy: 0.3951\n",
            "Epoch 2/50\n",
            "1563/1563 [==============================] - 49s 32ms/step - loss: 1.6308 - accuracy: 0.4181 - val_loss: 1.5727 - val_accuracy: 0.4437\n",
            "Epoch 3/50\n",
            "1563/1563 [==============================] - 49s 31ms/step - loss: 1.5433 - accuracy: 0.4543 - val_loss: 1.5283 - val_accuracy: 0.4485\n",
            "Epoch 4/50\n",
            "1563/1563 [==============================] - 48s 31ms/step - loss: 1.4844 - accuracy: 0.4715 - val_loss: 1.4904 - val_accuracy: 0.4715\n",
            "Epoch 5/50\n",
            "1563/1563 [==============================] - 48s 31ms/step - loss: 1.4311 - accuracy: 0.4928 - val_loss: 1.4458 - val_accuracy: 0.4841\n",
            "Epoch 6/50\n",
            "1563/1563 [==============================] - 48s 31ms/step - loss: 1.3893 - accuracy: 0.5070 - val_loss: 1.4453 - val_accuracy: 0.4831\n",
            "Epoch 7/50\n",
            "1563/1563 [==============================] - 48s 31ms/step - loss: 1.3552 - accuracy: 0.5174 - val_loss: 1.4210 - val_accuracy: 0.4951\n",
            "Epoch 8/50\n",
            "1563/1563 [==============================] - 47s 30ms/step - loss: 1.3221 - accuracy: 0.5303 - val_loss: 1.3655 - val_accuracy: 0.5152\n",
            "Epoch 9/50\n",
            "1563/1563 [==============================] - 48s 31ms/step - loss: 1.2840 - accuracy: 0.5454 - val_loss: 1.4126 - val_accuracy: 0.4969\n",
            "Epoch 10/50\n",
            "1563/1563 [==============================] - 47s 30ms/step - loss: 1.2596 - accuracy: 0.5535 - val_loss: 1.3558 - val_accuracy: 0.5188\n",
            "Epoch 11/50\n",
            "1563/1563 [==============================] - 46s 30ms/step - loss: 1.2265 - accuracy: 0.5640 - val_loss: 1.4082 - val_accuracy: 0.5047\n",
            "Epoch 12/50\n",
            "1563/1563 [==============================] - 46s 30ms/step - loss: 1.1962 - accuracy: 0.5769 - val_loss: 1.3556 - val_accuracy: 0.5213\n",
            "Epoch 13/50\n",
            "1563/1563 [==============================] - 46s 30ms/step - loss: 1.1687 - accuracy: 0.5834 - val_loss: 1.3476 - val_accuracy: 0.5242\n",
            "Epoch 14/50\n",
            "1563/1563 [==============================] - 46s 30ms/step - loss: 1.1425 - accuracy: 0.5973 - val_loss: 1.3045 - val_accuracy: 0.5347\n",
            "Epoch 15/50\n",
            "1563/1563 [==============================] - 46s 29ms/step - loss: 1.1187 - accuracy: 0.6051 - val_loss: 1.3559 - val_accuracy: 0.5209\n",
            "Epoch 16/50\n",
            "1563/1563 [==============================] - 46s 30ms/step - loss: 1.0953 - accuracy: 0.6127 - val_loss: 1.3649 - val_accuracy: 0.5133\n",
            "Epoch 17/50\n",
            "1563/1563 [==============================] - 46s 30ms/step - loss: 1.0657 - accuracy: 0.6240 - val_loss: 1.2977 - val_accuracy: 0.5400\n",
            "Epoch 18/50\n",
            "1563/1563 [==============================] - 43s 27ms/step - loss: 1.0339 - accuracy: 0.6362 - val_loss: 1.4278 - val_accuracy: 0.5117\n",
            "Epoch 19/50\n",
            "1563/1563 [==============================] - 46s 29ms/step - loss: 1.0142 - accuracy: 0.6409 - val_loss: 1.3818 - val_accuracy: 0.5147\n",
            "Epoch 20/50\n",
            "1563/1563 [==============================] - 46s 30ms/step - loss: 0.9859 - accuracy: 0.6506 - val_loss: 1.3740 - val_accuracy: 0.5258\n",
            "Epoch 21/50\n",
            "1563/1563 [==============================] - 47s 30ms/step - loss: 0.9613 - accuracy: 0.6610 - val_loss: 1.3457 - val_accuracy: 0.5401\n",
            "Epoch 22/50\n",
            "1563/1563 [==============================] - 49s 31ms/step - loss: 0.9328 - accuracy: 0.6704 - val_loss: 1.2907 - val_accuracy: 0.5500\n",
            "Epoch 23/50\n",
            "1563/1563 [==============================] - 52s 33ms/step - loss: 0.9106 - accuracy: 0.6772 - val_loss: 1.2886 - val_accuracy: 0.5493\n",
            "Epoch 24/50\n",
            "1563/1563 [==============================] - 46s 29ms/step - loss: 0.8814 - accuracy: 0.6891 - val_loss: 1.3765 - val_accuracy: 0.5322\n",
            "Epoch 25/50\n",
            "1563/1563 [==============================] - 46s 29ms/step - loss: 0.8582 - accuracy: 0.6976 - val_loss: 1.3695 - val_accuracy: 0.5295\n",
            "Epoch 26/50\n",
            "1563/1563 [==============================] - 46s 30ms/step - loss: 0.8358 - accuracy: 0.7054 - val_loss: 1.3257 - val_accuracy: 0.5454\n",
            "Epoch 27/50\n",
            "1563/1563 [==============================] - 46s 29ms/step - loss: 0.8046 - accuracy: 0.7179 - val_loss: 1.3462 - val_accuracy: 0.5488\n",
            "Epoch 28/50\n",
            "1563/1563 [==============================] - 46s 29ms/step - loss: 0.7783 - accuracy: 0.7246 - val_loss: 1.3813 - val_accuracy: 0.5432\n",
            "Epoch 29/50\n",
            "1563/1563 [==============================] - 46s 29ms/step - loss: 0.7531 - accuracy: 0.7342 - val_loss: 1.3902 - val_accuracy: 0.5474\n",
            "Epoch 30/50\n",
            "1563/1563 [==============================] - 46s 29ms/step - loss: 0.7310 - accuracy: 0.7423 - val_loss: 1.4545 - val_accuracy: 0.5257\n",
            "Epoch 31/50\n",
            "1563/1563 [==============================] - 46s 29ms/step - loss: 0.7023 - accuracy: 0.7525 - val_loss: 1.4462 - val_accuracy: 0.5463\n",
            "Epoch 32/50\n",
            "1563/1563 [==============================] - 46s 29ms/step - loss: 0.6819 - accuracy: 0.7599 - val_loss: 1.3855 - val_accuracy: 0.5513\n",
            "Epoch 33/50\n",
            "1563/1563 [==============================] - 46s 30ms/step - loss: 0.6515 - accuracy: 0.7726 - val_loss: 1.4369 - val_accuracy: 0.5532\n",
            "Epoch 34/50\n",
            "1563/1563 [==============================] - 46s 29ms/step - loss: 0.6295 - accuracy: 0.7790 - val_loss: 1.4312 - val_accuracy: 0.5517\n",
            "Epoch 35/50\n",
            "1563/1563 [==============================] - 46s 29ms/step - loss: 0.6042 - accuracy: 0.7889 - val_loss: 1.4339 - val_accuracy: 0.5491\n",
            "Epoch 36/50\n",
            "1563/1563 [==============================] - 44s 28ms/step - loss: 0.5839 - accuracy: 0.7956 - val_loss: 1.4636 - val_accuracy: 0.5529\n",
            "Epoch 37/50\n",
            "1563/1563 [==============================] - 34s 22ms/step - loss: 0.5536 - accuracy: 0.8071 - val_loss: 1.5347 - val_accuracy: 0.5470\n",
            "Epoch 38/50\n",
            "1563/1563 [==============================] - 38s 24ms/step - loss: 0.5299 - accuracy: 0.8165 - val_loss: 1.5420 - val_accuracy: 0.5496\n",
            "Epoch 39/50\n",
            "1563/1563 [==============================] - 41s 26ms/step - loss: 0.5039 - accuracy: 0.8251 - val_loss: 1.5318 - val_accuracy: 0.5544\n",
            "Epoch 40/50\n",
            "1563/1563 [==============================] - 42s 27ms/step - loss: 0.4846 - accuracy: 0.8300 - val_loss: 1.5771 - val_accuracy: 0.5556\n",
            "Epoch 41/50\n",
            "1563/1563 [==============================] - 43s 27ms/step - loss: 0.4659 - accuracy: 0.8390 - val_loss: 1.6249 - val_accuracy: 0.5515\n",
            "Epoch 42/50\n",
            "1563/1563 [==============================] - 42s 27ms/step - loss: 0.4423 - accuracy: 0.8470 - val_loss: 1.6616 - val_accuracy: 0.5563\n",
            "Epoch 43/50\n",
            "1563/1563 [==============================] - 42s 27ms/step - loss: 0.4282 - accuracy: 0.8526 - val_loss: 1.6812 - val_accuracy: 0.5461\n",
            "Epoch 44/50\n",
            "1563/1563 [==============================] - 46s 29ms/step - loss: 0.4088 - accuracy: 0.8580 - val_loss: 1.6958 - val_accuracy: 0.5425\n",
            "Epoch 45/50\n",
            "1563/1563 [==============================] - 47s 30ms/step - loss: 0.3765 - accuracy: 0.8703 - val_loss: 1.8040 - val_accuracy: 0.5474\n",
            "Epoch 46/50\n",
            "1563/1563 [==============================] - 47s 30ms/step - loss: 0.3707 - accuracy: 0.8703 - val_loss: 1.7176 - val_accuracy: 0.5509\n",
            "Epoch 47/50\n",
            "1563/1563 [==============================] - 47s 30ms/step - loss: 0.3500 - accuracy: 0.8796 - val_loss: 1.7580 - val_accuracy: 0.5495\n",
            "Epoch 48/50\n",
            "1563/1563 [==============================] - 47s 30ms/step - loss: 0.3304 - accuracy: 0.8875 - val_loss: 1.8353 - val_accuracy: 0.5460\n",
            "Epoch 49/50\n",
            "1563/1563 [==============================] - 47s 30ms/step - loss: 0.3162 - accuracy: 0.8908 - val_loss: 1.8626 - val_accuracy: 0.5437\n",
            "Epoch 50/50\n",
            "1563/1563 [==============================] - 47s 30ms/step - loss: 0.2981 - accuracy: 0.8997 - val_loss: 1.8367 - val_accuracy: 0.5542\n"
          ]
        }
      ],
      "source": [
        "model2 = construct_model((32,32,3), dim_per_layer=[1152, 576, 288], n_classes=len(id2class))\n",
        "\n",
        "model2.compile(\n",
        "    optimizer=tf.keras.optimizers.SGD(learning_rate=1e-3, momentum=0.9),\n",
        "    # спарс версія оскільки y_train та y_test містять номери класів\n",
        "    loss=tf.keras.losses.SparseCategoricalCrossentropy(from_logits=True),\n",
        "    metrics=['accuracy']\n",
        ")\n",
        "\n",
        "hist2 = model2.fit(\n",
        "    x=x_train,\n",
        "    y=y_train,\n",
        "    # кількість епох\n",
        "    epochs=50,\n",
        "    # розмір партії даних\n",
        "    batch_size=32,\n",
        "    validation_data=(x_test, y_test)\n",
        ")\n"
      ]
    },
    {
      "cell_type": "markdown",
      "metadata": {},
      "source": [
        "| num_experiment | dim_per_layer | num_layer | epochs | batch_size | accuracy |\n",
        "| :-: | :- | :-: | :-: | :-: | :-: |\n",
        "| 1 | | | 25 | 32 | 0.5257 |\n",
        "| 2 | | | 20 | 32 | 0.5282 |\n",
        "| 3 |[1024, 512, 256] | 3 | 20 | 32 | 0.5445 |\n",
        "| 4 |[1024, 512, 256, 128] | 4 | 20 | 32 | 0.5344 |\n",
        "| 5 |[512, 256, 128] | 3 | 20 | 32 | 0.5252 |\n",
        "| 6 |[256, 128] | 2 | 20 | 32 | 0.5183 |\n",
        "| 7 |[1024, 512] | 2 | 20 | 32 | 0.5355 |\n",
        "| 8 |[2048, 1024, 512] | 3 | 20 | 32 | 0.5374 |\n",
        "| 9 |[2048, 1024, 512, 216] | 4 | 20 | 32 | 0.5349 |\n",
        "| 10 |[1024, 512, 256] | 3 | 20 | 64 | 0.5338 |\n",
        "| 11 |[1024, 512, 256] | 3 | 20 | 16 | 0.5428 |\n",
        "| 12 |[900, 450, 225] | 3 | 20 | 32 | 0.5385 |\n",
        "| 13 |[800, 400, 200] | 3 | 20 | 32 | 0.5286 |\n",
        "| 14 |[800, 400, 200] | 3 | 20 | 128 | 0.5073 |\n",
        "| 15 |[1024, 512, 256] | 3 | 40 | 32 | **0.5514** |\n",
        "| 16 |[1024, 512, 256] | 3 | 30 | 32 | **0.5504** |\n",
        "| 17 |[1024, 512, 256] | 3 | 30 | 16 | 0.5289 |\n",
        "| 18 |[1024, 512, 256] | 3 | 45 | 32 | 0.5417 |\n",
        "| 19 |[1024, 512, 256] | 3 | 30 | 64 | 0.5424 |\n",
        "| 20 |[1152, 576, 288] | 3 | 30 | 32 | **0.5580** |\n",
        "| 21 |[1024, 512, 256, 128] | 4 | 35 | 32 | 0.5281 |\n",
        "| 22 |[1024, 768, 512] | 3 | 30 | 32 | 0.5445 |\n",
        "| 23 |[960, 480, 240] | 3 | 30 | 48 | 0.5455 |\n",
        "| 24 |[1024, 512, 256] | 3 | 20 | 48 | 0.5383 |\n",
        "| 25 |[1152, 576, 288] | 3 | 35 | 32 | **0.5598** |\n",
        "| 26 |[1152, 576, 288, 144] | 4 | 30 | 32 | **0.5560** |\n",
        "| 27 |[1024, 512, 256] | 3 | 30 | 48 | 0.5329 |\n",
        "| 28 |[1280, 640, 320] | 3 | 30 | 32 | 0.5474 |\n",
        "| 29 |[1152, 576, 288] | 3 | 25 | 16 | 0.5409 |\n",
        "| 30 |[1152, 576, 288] | 3 | 40 | 64 | 0.5396 |\n",
        "| 31 |[1088, 544, 272] | 3 | 35 | 32 | 0.5393 |\n",
        "| 32 |[1024, 512, 256] | 3 | 50 | 32 | 0.5464 |\n",
        "| 33 |[1152, 576, 288] | 3 | 50 | 32 | **0.5608** |"
      ]
    },
    {
      "cell_type": "code",
      "execution_count": 21,
      "metadata": {},
      "outputs": [
        {
          "data": {
            "image/png": "[encoded data removed]",
            "text/plain": [
              "<Figure size 1080x576 with 2 Axes>"
            ]
          },
          "metadata": {
            "needs_background": "light"
          },
          "output_type": "display_data"
        }
      ],
      "source": [
        "plot_history(hist2)"
      ]
    },
    {
      "cell_type": "code",
      "execution_count": 22,
      "metadata": {},
      "outputs": [
        {
          "name": "stdout",
          "output_type": "stream",
          "text": [
            "313/313 [==============================] - 3s 10ms/step\n"
          ]
        }
      ],
      "source": [
        "# обчислення передбачуваних значень y\n",
        "predictions2 = model2.predict(x_test)\n",
        "# перетворення векторів прогнозів на мітки класів\n",
        "y_pred2 = np.argmax(predictions2, axis=1)"
      ]
    },
    {
      "cell_type": "code",
      "execution_count": 23,
      "metadata": {},
      "outputs": [
        {
          "data": {
            "text/plain": [
              "array([[564,  76,  63,  22,  68,  22,  15,  38,  98,  34],\n",
              "       [ 26, 736,  15,  23,  10,  25,   5,  29,  44,  87],\n",
              "       [ 62,  28, 451,  83,  96, 103,  47,  99,  14,  17],\n",
              "       [ 13,  25,  94, 318,  62, 266,  87,  96,  12,  27],\n",
              "       [ 25,  11, 169,  51, 457,  58,  66, 144,  12,   7],\n",
              "       [  8,   7,  77, 154,  72, 512,  38, 116,   7,   9],\n",
              "       [  9,  20, 107,  82, 101,  78, 552,  34,   7,  10],\n",
              "       [ 19,  11,  46,  48,  53,  71,  18, 712,   1,  21],\n",
              "       [ 70,  99,  14,  28,  33,  24,   6,  30, 652,  44],\n",
              "       [ 21, 256,  12,  28,  16,  31,  16,  74,  56, 490]], dtype=int64)"
            ]
          },
          "execution_count": 23,
          "metadata": {},
          "output_type": "execute_result"
        }
      ],
      "source": [
        "# матриця помилок\n",
        "confusion_matrix(y_test, y_pred2)"
      ]
    },
    {
      "cell_type": "code",
      "execution_count": 24,
      "metadata": {},
      "outputs": [
        {
          "name": "stdout",
          "output_type": "stream",
          "text": [
            "              precision    recall  f1-score   support\n",
            "\n",
            "           0       0.69      0.56      0.62      1000\n",
            "           1       0.58      0.74      0.65      1000\n",
            "           2       0.43      0.45      0.44      1000\n",
            "           3       0.38      0.32      0.35      1000\n",
            "           4       0.47      0.46      0.46      1000\n",
            "           5       0.43      0.51      0.47      1000\n",
            "           6       0.65      0.55      0.60      1000\n",
            "           7       0.52      0.71      0.60      1000\n",
            "           8       0.72      0.65      0.69      1000\n",
            "           9       0.66      0.49      0.56      1000\n",
            "\n",
            "    accuracy                           0.54     10000\n",
            "   macro avg       0.55      0.54      0.54     10000\n",
            "weighted avg       0.55      0.54      0.54     10000\n",
            "\n"
          ]
        }
      ],
      "source": [
        "# звіт класифікації\n",
        "print(classification_report(y_test, y_pred2))"
      ]
    },
    {
      "cell_type": "code",
      "execution_count": 25,
      "metadata": {},
      "outputs": [
        {
          "name": "stdout",
          "output_type": "stream",
          "text": [
            "Model: \"model_1\"\n",
            "_________________________________________________________________\n",
            " Layer (type)                Output Shape              Param #   \n",
            "=================================================================\n",
            " input_2 (InputLayer)        [(None, 32, 32, 3)]       0         \n",
            "                                                                 \n",
            " flatten_1 (Flatten)         (None, 3072)              0         \n",
            "                                                                 \n",
            " dense_3 (Dense)             (None, 1152)              3540096   \n",
            "                                                                 \n",
            " dense_4 (Dense)             (None, 576)               664128    \n",
            "                                                                 \n",
            " dense_5 (Dense)             (None, 288)               166176    \n",
            "                                                                 \n",
            " dense_6 (Dense)             (None, 10)                2890      \n",
            "                                                                 \n",
            "=================================================================\n",
            "Total params: 4373290 (16.68 MB)\n",
            "Trainable params: 4373290 (16.68 MB)\n",
            "Non-trainable params: 0 (0.00 Byte)\n",
            "_________________________________________________________________\n"
          ]
        }
      ],
      "source": [
        "model2.summary()"
      ]
    },
    {
      "cell_type": "markdown",
      "metadata": {
        "id": "nF_ROvuyhAw4"
      },
      "source": [
        "Порівняти розміри моделей та час їх навчання;\n",
        "1. Початкова модель - 203.814 s, 1.21 MB; val_accuracy - 0.1"
      ]
    },
    {
      "cell_type": "code",
      "execution_count": 48,
      "metadata": {},
      "outputs": [],
      "source": [
        "def predict_image_class(img_path, model):\n",
        "    img = image.load_img(img_path, target_size=(32, 32))\n",
        "    img_array = image.img_to_array(img)\n",
        "    # додатковий вимір на початку масиву (32, 32, 3) -> (1, 32, 32, 3)\n",
        "    img_array = np.expand_dims(img_array, axis=0) \n",
        "    # нормалізація \n",
        "    img_array /= 255.0 \n",
        "\n",
        "    # використання моделі для класифікації зображення\n",
        "    predictions = model.predict(img_array)\n",
        "    class_idx = np.argmax(predictions, axis=1)\n",
        "    \n",
        "    # відображення номеру класу та його назви\n",
        "    class_name = id2class[class_idx[0]]\n",
        "    \n",
        "    return class_name"
      ]
    },
    {
      "cell_type": "code",
      "execution_count": 49,
      "metadata": {},
      "outputs": [
        {
          "name": "stdout",
          "output_type": "stream",
          "text": [
            "1/1 [==============================] - 0s 36ms/step\n"
          ]
        },
        {
          "data": {
            "text/plain": [
              "'automobile'"
            ]
          },
          "execution_count": 49,
          "metadata": {},
          "output_type": "execute_result"
        }
      ],
      "source": [
        "predict_image_class(img_path=r'DL-LW1-test/test_automobile.jpg', model=model2)"
      ]
    },
    {
      "cell_type": "code",
      "execution_count": 50,
      "metadata": {},
      "outputs": [
        {
          "name": "stdout",
          "output_type": "stream",
          "text": [
            "1/1 [==============================] - 0s 25ms/step\n"
          ]
        },
        {
          "data": {
            "text/plain": [
              "'cat'"
            ]
          },
          "execution_count": 50,
          "metadata": {},
          "output_type": "execute_result"
        }
      ],
      "source": [
        "predict_image_class(img_path=r'DL-LW1-test/test_cat.jpg', model=model2)"
      ]
    },
    {
      "cell_type": "code",
      "execution_count": 51,
      "metadata": {},
      "outputs": [
        {
          "name": "stdout",
          "output_type": "stream",
          "text": [
            "1/1 [==============================] - 0s 30ms/step\n"
          ]
        },
        {
          "data": {
            "text/plain": [
              "'deer'"
            ]
          },
          "execution_count": 51,
          "metadata": {},
          "output_type": "execute_result"
        }
      ],
      "source": [
        "predict_image_class(img_path=r'DL-LW1-test/test_dog.jpg', model=model2)"
      ]
    }
  ],
  "metadata": {
    "accelerator": "GPU",
    "colab": {
      "gpuType": "T4",
      "provenance": []
    },
    "kernelspec": {
      "display_name": "Python 3",
      "name": "python3"
    },
    "language_info": {
      "codemirror_mode": {
        "name": "ipython",
        "version": 3
      },
      "file_extension": ".py",
      "mimetype": "text/x-python",
      "name": "python",
      "nbconvert_exporter": "python",
      "pygments_lexer": "ipython3",
      "version": "3.10.1"
    }
  },
  "nbformat": 4,
  "nbformat_minor": 0
}
