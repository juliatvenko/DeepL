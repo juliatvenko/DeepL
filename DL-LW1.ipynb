{
  "nbformat": 4,
  "nbformat_minor": 0,
  "metadata": {
    "colab": {
      "provenance": [],
      "gpuType": "T4"
    },
    "kernelspec": {
      "name": "python3",
      "display_name": "Python 3"
    },
    "language_info": {
      "name": "python"
    },
    "accelerator": "GPU"
  },
  "cells": [
    {
      "cell_type": "markdown",
      "source": [
        "Підготувати середовище для виконання лабораторної роботи (локальне чи Colab)"
      ],
      "metadata": {
        "id": "LBssvjIqhMoI"
      }
    },
    {
      "cell_type": "code",
      "execution_count": null,
      "metadata": {
        "id": "kzAA-FN0gSXv"
      },
      "outputs": [],
      "source": [
        "import tensorflow as tf\n",
        "import matplotlib.pyplot as plt\n",
        "from sklearn.metrics import classification_report, confusion_matrix\n",
        "import numpy as np"
      ]
    },
    {
      "cell_type": "code",
      "source": [
        "tf.config.list_physical_devices('GPU')"
      ],
      "metadata": {
        "colab": {
          "base_uri": "https://localhost:8080/"
        },
        "id": "ovdQlnffgkX1",
        "outputId": "d826f6d8-b70f-48ec-9418-964b18fa1d58"
      },
      "execution_count": null,
      "outputs": [
        {
          "output_type": "execute_result",
          "data": {
            "text/plain": [
              "[PhysicalDevice(name='/physical_device:GPU:0', device_type='GPU')]"
            ]
          },
          "metadata": {},
          "execution_count": 2
        }
      ]
    },
    {
      "cell_type": "markdown",
      "source": [
        "Завантажити дані для навчання (CIFAR10, див. методичні матеріали для готового фрагменту коду);"
      ],
      "metadata": {
        "id": "686q4jZwhYu-"
      }
    },
    {
      "cell_type": "code",
      "source": [
        "(x_train, y_train), (x_test, y_test) = tf.keras.datasets.cifar10.load_data()"
      ],
      "metadata": {
        "colab": {
          "base_uri": "https://localhost:8080/"
        },
        "id": "qGesQMPJij0U",
        "outputId": "a22c910a-cb91-4203-d46b-1ef6d75e1f44"
      },
      "execution_count": null,
      "outputs": [
        {
          "output_type": "stream",
          "name": "stdout",
          "text": [
            "Downloading data from https://www.cs.toronto.edu/~kriz/cifar-10-python.tar.gz\n",
            "170498071/170498071 [==============================] - 13s 0us/step\n"
          ]
        }
      ]
    },
    {
      "cell_type": "markdown",
      "source": [
        "Навчити повнозв’язну нейронну мережу із запропонованою архітектурою (приклад з методичних матеріалів) та налаштуваннями компіляції:"
      ],
      "metadata": {
        "id": "1-O44d5_he5m"
      }
    },
    {
      "cell_type": "markdown",
      "source": [
        "Навчити мережу не змінюючи гіперпараметрів, заданих у прикладі;"
      ],
      "metadata": {
        "id": "EMDtqBBhhxgM"
      }
    },
    {
      "cell_type": "code",
      "source": [
        "id2class = {\n",
        "    idx: name for idx, name in enumerate([\n",
        "        'airplane', 'automobile', 'bird',\n",
        "        'cat', 'deer', 'dog', 'frog',\n",
        "        'horse', 'ship', 'truck'\n",
        "    ])\n",
        "}\n"
      ],
      "metadata": {
        "id": "IK5wDi7umTDo"
      },
      "execution_count": null,
      "outputs": []
    },
    {
      "cell_type": "markdown",
      "source": [
        "Повнозв’язна мережа з Functional API"
      ],
      "metadata": {
        "id": "39QO4BYAmw_T"
      }
    },
    {
      "cell_type": "code",
      "source": [
        "def construct_model(input_shape: tuple[int,...], dim_per_layer: list[int], n_classes: int) -> tf.keras.Model:\n",
        "    input_x = tf.keras.layers.Input(shape=input_shape)\n",
        "\n",
        "\n",
        "    x = tf.keras.layers.Flatten()(input_x)\n",
        "    for dim in dim_per_layer:\n",
        "        x = tf.keras.layers.Dense(dim, activation='relu')(x)\n",
        "\n",
        "    out_x = tf.keras.layers.Dense(n_classes)(x) # можна додати activation = 'softmax'\n",
        "\n",
        "\n",
        "    return tf.keras.Model(inputs=input_x, outputs=out_x)\n",
        "\n",
        "\n",
        "model = construct_model((32,32,3), dim_per_layer=[100, 100], n_classes=len(id2class))"
      ],
      "metadata": {
        "id": "fm313yeRjBLU"
      },
      "execution_count": null,
      "outputs": []
    },
    {
      "cell_type": "code",
      "source": [
        "model.compile(\n",
        "    optimizer=tf.keras.optimizers.SGD(learning_rate=1e-3, momentum=0.9),\n",
        "    # спарс версія оскільки y_train та y_test містять номери класів\n",
        "    loss=tf.keras.losses.SparseCategoricalCrossentropy(from_logits=True),\n",
        "    metrics=['accuracy']\n",
        ")\n"
      ],
      "metadata": {
        "id": "4A_idzs1qVQz"
      },
      "execution_count": null,
      "outputs": []
    },
    {
      "cell_type": "code",
      "source": [
        "hist = model.fit(\n",
        "    x=x_train,\n",
        "    y=y_train,\n",
        "    # кількість епох\n",
        "    epochs=100,\n",
        "    # розмір партії даних\n",
        "    batch_size=128,\n",
        "    validation_data=(x_test, y_test)\n",
        ")\n"
      ],
      "metadata": {
        "colab": {
          "base_uri": "https://localhost:8080/"
        },
        "id": "kidm905gqZso",
        "outputId": "d9b6df90-8fdf-4035-bea3-123ae310dbd3"
      },
      "execution_count": null,
      "outputs": [
        {
          "output_type": "stream",
          "name": "stdout",
          "text": [
            "Epoch 1/100\n",
            "391/391 [==============================] - 3s 4ms/step - loss: 146.1159 - accuracy: 0.0968 - val_loss: 2.3026 - val_accuracy: 0.1000\n",
            "Epoch 2/100\n",
            "391/391 [==============================] - 1s 4ms/step - loss: 2.3026 - accuracy: 0.0979 - val_loss: 2.3026 - val_accuracy: 0.1000\n",
            "Epoch 3/100\n",
            "391/391 [==============================] - 1s 3ms/step - loss: 2.3026 - accuracy: 0.0983 - val_loss: 2.3026 - val_accuracy: 0.1000\n",
            "Epoch 4/100\n",
            "391/391 [==============================] - 1s 3ms/step - loss: 2.3026 - accuracy: 0.0983 - val_loss: 2.3026 - val_accuracy: 0.1000\n",
            "Epoch 5/100\n",
            "391/391 [==============================] - 1s 3ms/step - loss: 2.3026 - accuracy: 0.0968 - val_loss: 2.3026 - val_accuracy: 0.1000\n",
            "Epoch 6/100\n",
            "391/391 [==============================] - 1s 3ms/step - loss: 2.3026 - accuracy: 0.0968 - val_loss: 2.3026 - val_accuracy: 0.1000\n",
            "Epoch 7/100\n",
            "391/391 [==============================] - 1s 3ms/step - loss: 2.3026 - accuracy: 0.0957 - val_loss: 2.3026 - val_accuracy: 0.1000\n",
            "Epoch 8/100\n",
            "391/391 [==============================] - 2s 5ms/step - loss: 2.3026 - accuracy: 0.0967 - val_loss: 2.3026 - val_accuracy: 0.1000\n",
            "Epoch 9/100\n",
            "391/391 [==============================] - 1s 4ms/step - loss: 2.3026 - accuracy: 0.0974 - val_loss: 2.3026 - val_accuracy: 0.1000\n",
            "Epoch 10/100\n",
            "391/391 [==============================] - 1s 4ms/step - loss: 2.3026 - accuracy: 0.0986 - val_loss: 2.3026 - val_accuracy: 0.1000\n",
            "Epoch 11/100\n",
            "391/391 [==============================] - 1s 3ms/step - loss: 2.3026 - accuracy: 0.0976 - val_loss: 2.3026 - val_accuracy: 0.1000\n",
            "Epoch 12/100\n",
            "391/391 [==============================] - 1s 3ms/step - loss: 2.3026 - accuracy: 0.0991 - val_loss: 2.3026 - val_accuracy: 0.1000\n",
            "Epoch 13/100\n",
            "391/391 [==============================] - 1s 4ms/step - loss: 2.3026 - accuracy: 0.0981 - val_loss: 2.3026 - val_accuracy: 0.1000\n",
            "Epoch 14/100\n",
            "391/391 [==============================] - 1s 3ms/step - loss: 2.3026 - accuracy: 0.0973 - val_loss: 2.3026 - val_accuracy: 0.1000\n",
            "Epoch 15/100\n",
            "391/391 [==============================] - 1s 3ms/step - loss: 2.3026 - accuracy: 0.0985 - val_loss: 2.3026 - val_accuracy: 0.1000\n",
            "Epoch 16/100\n",
            "391/391 [==============================] - 2s 4ms/step - loss: 2.3026 - accuracy: 0.0972 - val_loss: 2.3026 - val_accuracy: 0.1000\n",
            "Epoch 17/100\n",
            "391/391 [==============================] - 2s 4ms/step - loss: 2.3026 - accuracy: 0.0989 - val_loss: 2.3026 - val_accuracy: 0.1000\n",
            "Epoch 18/100\n",
            "391/391 [==============================] - 1s 3ms/step - loss: 2.3026 - accuracy: 0.0987 - val_loss: 2.3026 - val_accuracy: 0.1000\n",
            "Epoch 19/100\n",
            "391/391 [==============================] - 1s 3ms/step - loss: 2.3026 - accuracy: 0.0969 - val_loss: 2.3026 - val_accuracy: 0.1000\n",
            "Epoch 20/100\n",
            "391/391 [==============================] - 1s 3ms/step - loss: 2.3026 - accuracy: 0.0980 - val_loss: 2.3026 - val_accuracy: 0.1000\n",
            "Epoch 21/100\n",
            "391/391 [==============================] - 1s 3ms/step - loss: 2.3026 - accuracy: 0.0972 - val_loss: 2.3026 - val_accuracy: 0.1000\n",
            "Epoch 22/100\n",
            "391/391 [==============================] - 1s 3ms/step - loss: 2.3026 - accuracy: 0.0975 - val_loss: 2.3026 - val_accuracy: 0.1000\n",
            "Epoch 23/100\n",
            "391/391 [==============================] - 1s 3ms/step - loss: 2.3026 - accuracy: 0.0986 - val_loss: 2.3026 - val_accuracy: 0.1000\n",
            "Epoch 24/100\n",
            "391/391 [==============================] - 1s 3ms/step - loss: 2.3026 - accuracy: 0.0981 - val_loss: 2.3026 - val_accuracy: 0.1000\n",
            "Epoch 25/100\n",
            "391/391 [==============================] - 2s 4ms/step - loss: 2.3026 - accuracy: 0.0981 - val_loss: 2.3026 - val_accuracy: 0.1000\n",
            "Epoch 26/100\n",
            "391/391 [==============================] - 2s 5ms/step - loss: 2.3026 - accuracy: 0.0976 - val_loss: 2.3026 - val_accuracy: 0.1000\n",
            "Epoch 27/100\n",
            "391/391 [==============================] - 1s 3ms/step - loss: 2.3026 - accuracy: 0.0967 - val_loss: 2.3026 - val_accuracy: 0.1000\n",
            "Epoch 28/100\n",
            "391/391 [==============================] - 1s 3ms/step - loss: 2.3026 - accuracy: 0.0958 - val_loss: 2.3026 - val_accuracy: 0.1000\n",
            "Epoch 29/100\n",
            "391/391 [==============================] - 1s 3ms/step - loss: 2.3026 - accuracy: 0.0978 - val_loss: 2.3026 - val_accuracy: 0.1000\n",
            "Epoch 30/100\n",
            "391/391 [==============================] - 1s 3ms/step - loss: 2.3026 - accuracy: 0.0980 - val_loss: 2.3026 - val_accuracy: 0.1000\n",
            "Epoch 31/100\n",
            "391/391 [==============================] - 1s 3ms/step - loss: 2.3026 - accuracy: 0.0968 - val_loss: 2.3026 - val_accuracy: 0.1000\n",
            "Epoch 32/100\n",
            "391/391 [==============================] - 1s 3ms/step - loss: 2.3026 - accuracy: 0.0974 - val_loss: 2.3026 - val_accuracy: 0.1000\n",
            "Epoch 33/100\n",
            "391/391 [==============================] - 1s 3ms/step - loss: 2.3026 - accuracy: 0.0964 - val_loss: 2.3026 - val_accuracy: 0.1000\n",
            "Epoch 34/100\n",
            "391/391 [==============================] - 2s 5ms/step - loss: 2.3026 - accuracy: 0.0970 - val_loss: 2.3026 - val_accuracy: 0.1000\n",
            "Epoch 35/100\n",
            "391/391 [==============================] - 2s 4ms/step - loss: 2.3026 - accuracy: 0.0983 - val_loss: 2.3026 - val_accuracy: 0.1000\n",
            "Epoch 36/100\n",
            "391/391 [==============================] - 1s 3ms/step - loss: 2.3026 - accuracy: 0.0956 - val_loss: 2.3026 - val_accuracy: 0.1000\n",
            "Epoch 37/100\n",
            "391/391 [==============================] - 1s 3ms/step - loss: 2.3026 - accuracy: 0.0949 - val_loss: 2.3026 - val_accuracy: 0.1000\n",
            "Epoch 38/100\n",
            "391/391 [==============================] - 2s 4ms/step - loss: 2.3026 - accuracy: 0.0977 - val_loss: 2.3026 - val_accuracy: 0.1000\n",
            "Epoch 39/100\n",
            "391/391 [==============================] - 1s 3ms/step - loss: 2.3026 - accuracy: 0.0967 - val_loss: 2.3026 - val_accuracy: 0.1000\n",
            "Epoch 40/100\n",
            "391/391 [==============================] - 1s 3ms/step - loss: 2.3026 - accuracy: 0.0987 - val_loss: 2.3026 - val_accuracy: 0.1000\n",
            "Epoch 41/100\n",
            "391/391 [==============================] - 1s 3ms/step - loss: 2.3026 - accuracy: 0.0996 - val_loss: 2.3026 - val_accuracy: 0.1000\n",
            "Epoch 42/100\n",
            "391/391 [==============================] - 1s 3ms/step - loss: 2.3026 - accuracy: 0.0971 - val_loss: 2.3026 - val_accuracy: 0.1000\n",
            "Epoch 43/100\n",
            "391/391 [==============================] - 2s 5ms/step - loss: 2.3026 - accuracy: 0.0972 - val_loss: 2.3026 - val_accuracy: 0.1000\n",
            "Epoch 44/100\n",
            "391/391 [==============================] - 1s 3ms/step - loss: 2.3026 - accuracy: 0.0971 - val_loss: 2.3026 - val_accuracy: 0.1000\n",
            "Epoch 45/100\n",
            "391/391 [==============================] - 1s 3ms/step - loss: 2.3026 - accuracy: 0.0974 - val_loss: 2.3026 - val_accuracy: 0.1000\n",
            "Epoch 46/100\n",
            "391/391 [==============================] - 1s 3ms/step - loss: 2.3026 - accuracy: 0.0977 - val_loss: 2.3026 - val_accuracy: 0.1000\n",
            "Epoch 47/100\n",
            "391/391 [==============================] - 1s 4ms/step - loss: 2.3026 - accuracy: 0.0976 - val_loss: 2.3026 - val_accuracy: 0.1000\n",
            "Epoch 48/100\n",
            "391/391 [==============================] - 1s 3ms/step - loss: 2.3026 - accuracy: 0.0977 - val_loss: 2.3026 - val_accuracy: 0.1000\n",
            "Epoch 49/100\n",
            "391/391 [==============================] - 1s 3ms/step - loss: 2.3026 - accuracy: 0.0990 - val_loss: 2.3026 - val_accuracy: 0.1000\n",
            "Epoch 50/100\n",
            "391/391 [==============================] - 1s 3ms/step - loss: 2.3026 - accuracy: 0.0986 - val_loss: 2.3026 - val_accuracy: 0.1000\n",
            "Epoch 51/100\n",
            "391/391 [==============================] - 2s 4ms/step - loss: 2.3026 - accuracy: 0.0968 - val_loss: 2.3026 - val_accuracy: 0.1000\n",
            "Epoch 52/100\n",
            "391/391 [==============================] - 2s 4ms/step - loss: 2.3026 - accuracy: 0.0978 - val_loss: 2.3026 - val_accuracy: 0.1000\n",
            "Epoch 53/100\n",
            "391/391 [==============================] - 1s 3ms/step - loss: 2.3026 - accuracy: 0.0975 - val_loss: 2.3026 - val_accuracy: 0.1000\n",
            "Epoch 54/100\n",
            "391/391 [==============================] - 1s 3ms/step - loss: 2.3026 - accuracy: 0.0985 - val_loss: 2.3026 - val_accuracy: 0.1000\n",
            "Epoch 55/100\n",
            "391/391 [==============================] - 1s 3ms/step - loss: 2.3026 - accuracy: 0.0970 - val_loss: 2.3026 - val_accuracy: 0.1000\n",
            "Epoch 56/100\n",
            "391/391 [==============================] - 1s 3ms/step - loss: 2.3026 - accuracy: 0.0968 - val_loss: 2.3026 - val_accuracy: 0.1000\n",
            "Epoch 57/100\n",
            "391/391 [==============================] - 1s 3ms/step - loss: 2.3026 - accuracy: 0.0960 - val_loss: 2.3026 - val_accuracy: 0.1000\n",
            "Epoch 58/100\n",
            "391/391 [==============================] - 1s 4ms/step - loss: 2.3026 - accuracy: 0.0981 - val_loss: 2.3026 - val_accuracy: 0.1000\n",
            "Epoch 59/100\n",
            "391/391 [==============================] - 1s 3ms/step - loss: 2.3026 - accuracy: 0.0974 - val_loss: 2.3026 - val_accuracy: 0.1000\n",
            "Epoch 60/100\n",
            "391/391 [==============================] - 2s 5ms/step - loss: 2.3026 - accuracy: 0.0982 - val_loss: 2.3026 - val_accuracy: 0.1000\n",
            "Epoch 61/100\n",
            "391/391 [==============================] - 1s 4ms/step - loss: 2.3026 - accuracy: 0.0983 - val_loss: 2.3026 - val_accuracy: 0.1000\n",
            "Epoch 62/100\n",
            "391/391 [==============================] - 1s 3ms/step - loss: 2.3026 - accuracy: 0.0971 - val_loss: 2.3026 - val_accuracy: 0.1000\n",
            "Epoch 63/100\n",
            "391/391 [==============================] - 1s 3ms/step - loss: 2.3026 - accuracy: 0.0983 - val_loss: 2.3026 - val_accuracy: 0.1000\n",
            "Epoch 64/100\n",
            "391/391 [==============================] - 1s 3ms/step - loss: 2.3026 - accuracy: 0.0960 - val_loss: 2.3026 - val_accuracy: 0.1000\n",
            "Epoch 65/100\n",
            "391/391 [==============================] - 1s 3ms/step - loss: 2.3026 - accuracy: 0.0971 - val_loss: 2.3026 - val_accuracy: 0.1000\n",
            "Epoch 66/100\n",
            "391/391 [==============================] - 1s 3ms/step - loss: 2.3026 - accuracy: 0.0981 - val_loss: 2.3026 - val_accuracy: 0.1000\n",
            "Epoch 67/100\n",
            "391/391 [==============================] - 1s 3ms/step - loss: 2.3026 - accuracy: 0.0980 - val_loss: 2.3026 - val_accuracy: 0.1000\n",
            "Epoch 68/100\n",
            "391/391 [==============================] - 1s 4ms/step - loss: 2.3026 - accuracy: 0.0977 - val_loss: 2.3026 - val_accuracy: 0.1000\n",
            "Epoch 69/100\n",
            "391/391 [==============================] - 2s 5ms/step - loss: 2.3026 - accuracy: 0.0971 - val_loss: 2.3026 - val_accuracy: 0.1000\n",
            "Epoch 70/100\n",
            "391/391 [==============================] - 1s 4ms/step - loss: 2.3026 - accuracy: 0.0973 - val_loss: 2.3026 - val_accuracy: 0.1000\n",
            "Epoch 71/100\n",
            "391/391 [==============================] - 1s 3ms/step - loss: 2.3026 - accuracy: 0.0965 - val_loss: 2.3026 - val_accuracy: 0.1000\n",
            "Epoch 72/100\n",
            "391/391 [==============================] - 1s 3ms/step - loss: 2.3026 - accuracy: 0.0972 - val_loss: 2.3026 - val_accuracy: 0.1000\n",
            "Epoch 73/100\n",
            "391/391 [==============================] - 1s 3ms/step - loss: 2.3026 - accuracy: 0.0991 - val_loss: 2.3026 - val_accuracy: 0.1000\n",
            "Epoch 74/100\n",
            "391/391 [==============================] - 1s 4ms/step - loss: 2.3026 - accuracy: 0.0993 - val_loss: 2.3026 - val_accuracy: 0.1000\n",
            "Epoch 75/100\n",
            "391/391 [==============================] - 1s 4ms/step - loss: 2.3026 - accuracy: 0.0965 - val_loss: 2.3026 - val_accuracy: 0.1000\n",
            "Epoch 76/100\n",
            "391/391 [==============================] - 1s 3ms/step - loss: 2.3026 - accuracy: 0.0960 - val_loss: 2.3026 - val_accuracy: 0.1000\n",
            "Epoch 77/100\n",
            "391/391 [==============================] - 2s 4ms/step - loss: 2.3026 - accuracy: 0.0974 - val_loss: 2.3026 - val_accuracy: 0.1000\n",
            "Epoch 78/100\n",
            "391/391 [==============================] - 2s 5ms/step - loss: 2.3026 - accuracy: 0.0951 - val_loss: 2.3026 - val_accuracy: 0.1000\n",
            "Epoch 79/100\n",
            "391/391 [==============================] - 1s 3ms/step - loss: 2.3026 - accuracy: 0.0994 - val_loss: 2.3026 - val_accuracy: 0.1000\n",
            "Epoch 80/100\n",
            "391/391 [==============================] - 1s 3ms/step - loss: 2.3026 - accuracy: 0.0967 - val_loss: 2.3026 - val_accuracy: 0.1000\n",
            "Epoch 81/100\n",
            "391/391 [==============================] - 1s 3ms/step - loss: 2.3026 - accuracy: 0.0990 - val_loss: 2.3026 - val_accuracy: 0.1000\n",
            "Epoch 82/100\n",
            "391/391 [==============================] - 1s 3ms/step - loss: 2.3026 - accuracy: 0.0964 - val_loss: 2.3026 - val_accuracy: 0.1000\n",
            "Epoch 83/100\n",
            "391/391 [==============================] - 1s 3ms/step - loss: 2.3026 - accuracy: 0.0984 - val_loss: 2.3026 - val_accuracy: 0.1000\n",
            "Epoch 84/100\n",
            "391/391 [==============================] - 1s 3ms/step - loss: 2.3026 - accuracy: 0.0989 - val_loss: 2.3026 - val_accuracy: 0.1000\n",
            "Epoch 85/100\n",
            "391/391 [==============================] - 1s 3ms/step - loss: 2.3026 - accuracy: 0.0974 - val_loss: 2.3026 - val_accuracy: 0.1000\n",
            "Epoch 86/100\n",
            "391/391 [==============================] - 2s 5ms/step - loss: 2.3026 - accuracy: 0.0965 - val_loss: 2.3026 - val_accuracy: 0.1000\n",
            "Epoch 87/100\n",
            "391/391 [==============================] - 1s 4ms/step - loss: 2.3026 - accuracy: 0.0981 - val_loss: 2.3026 - val_accuracy: 0.1000\n",
            "Epoch 88/100\n",
            "391/391 [==============================] - 1s 3ms/step - loss: 2.3026 - accuracy: 0.0972 - val_loss: 2.3026 - val_accuracy: 0.1000\n",
            "Epoch 89/100\n",
            "391/391 [==============================] - 1s 3ms/step - loss: 2.3026 - accuracy: 0.0962 - val_loss: 2.3026 - val_accuracy: 0.1000\n",
            "Epoch 90/100\n",
            "391/391 [==============================] - 1s 3ms/step - loss: 2.3026 - accuracy: 0.0972 - val_loss: 2.3026 - val_accuracy: 0.1000\n",
            "Epoch 91/100\n",
            "391/391 [==============================] - 1s 3ms/step - loss: 2.3026 - accuracy: 0.0979 - val_loss: 2.3026 - val_accuracy: 0.1000\n",
            "Epoch 92/100\n",
            "391/391 [==============================] - 1s 3ms/step - loss: 2.3026 - accuracy: 0.0955 - val_loss: 2.3026 - val_accuracy: 0.1000\n",
            "Epoch 93/100\n",
            "391/391 [==============================] - 1s 3ms/step - loss: 2.3026 - accuracy: 0.0973 - val_loss: 2.3026 - val_accuracy: 0.1000\n",
            "Epoch 94/100\n",
            "391/391 [==============================] - 2s 4ms/step - loss: 2.3026 - accuracy: 0.0972 - val_loss: 2.3026 - val_accuracy: 0.1000\n",
            "Epoch 95/100\n",
            "391/391 [==============================] - 2s 5ms/step - loss: 2.3026 - accuracy: 0.0971 - val_loss: 2.3026 - val_accuracy: 0.1000\n",
            "Epoch 96/100\n",
            "391/391 [==============================] - 1s 3ms/step - loss: 2.3026 - accuracy: 0.0979 - val_loss: 2.3026 - val_accuracy: 0.1000\n",
            "Epoch 97/100\n",
            "391/391 [==============================] - 1s 3ms/step - loss: 2.3026 - accuracy: 0.0976 - val_loss: 2.3026 - val_accuracy: 0.1000\n",
            "Epoch 98/100\n",
            "391/391 [==============================] - 1s 3ms/step - loss: 2.3026 - accuracy: 0.0974 - val_loss: 2.3026 - val_accuracy: 0.1000\n",
            "Epoch 99/100\n",
            "391/391 [==============================] - 1s 3ms/step - loss: 2.3026 - accuracy: 0.0964 - val_loss: 2.3026 - val_accuracy: 0.1000\n",
            "Epoch 100/100\n",
            "391/391 [==============================] - 1s 3ms/step - loss: 2.3026 - accuracy: 0.0975 - val_loss: 2.3026 - val_accuracy: 0.1000\n"
          ]
        }
      ]
    },
    {
      "cell_type": "markdown",
      "source": [
        "Оцінити метрики моделі на тестовій вибірці;"
      ],
      "metadata": {
        "id": "X8wlSx66h0dA"
      }
    },
    {
      "cell_type": "code",
      "source": [
        "test_loss, test_accuracy = model.evaluate(x_test, y_test, verbose=2)"
      ],
      "metadata": {
        "colab": {
          "base_uri": "https://localhost:8080/"
        },
        "id": "Mcpqyld7sA7A",
        "outputId": "cf48f18e-99a9-41e2-8346-b0d2fc622ae6"
      },
      "execution_count": null,
      "outputs": [
        {
          "output_type": "stream",
          "name": "stdout",
          "text": [
            "313/313 - 1s - loss: 2.3026 - accuracy: 0.1000 - 532ms/epoch - 2ms/step\n"
          ]
        }
      ]
    },
    {
      "cell_type": "markdown",
      "source": [
        "Побудувати криві навчання для моделі (для функції втрат та метрики точності);"
      ],
      "metadata": {
        "id": "W011H0lCh2_o"
      }
    },
    {
      "cell_type": "code",
      "source": [
        "# Візуалізація історії навчання\n",
        "def plot_history(history):\n",
        "    plt.figure(figsize=(8,4))\n",
        "\n",
        "    # Побудова кривої втрат\n",
        "    plt.subplot(1, 2, 1)\n",
        "    plt.plot(history.history['loss'], label='Training Loss')\n",
        "    plt.plot(history.history['val_loss'], label='Validation Loss')\n",
        "    plt.title('Loss Curve')\n",
        "    plt.xlabel('Epoch')\n",
        "    plt.ylabel('Loss')\n",
        "    plt.legend()\n",
        "\n",
        "    # Побудова кривої точності\n",
        "    plt.subplot(1, 2, 2)\n",
        "    plt.plot(history.history['accuracy'], label='Training Accuracy')\n",
        "    plt.plot(history.history['val_accuracy'], label='Validation Accuracy')\n",
        "    plt.title('Accuracy Curve')\n",
        "    plt.xlabel('Epoch')\n",
        "    plt.ylabel('Accuracy')\n",
        "    plt.legend()\n",
        "\n",
        "    plt.tight_layout()\n",
        "    plt.show()\n",
        "\n",
        "# Виклик функції для побудови графіків\n",
        "plot_history(hist)"
      ],
      "metadata": {
        "colab": {
          "base_uri": "https://localhost:8080/",
          "height": 407
        },
        "id": "RoJbHdxFwqD5",
        "outputId": "e2dbb915-083e-452f-9449-3d0b5783662d"
      },
      "execution_count": null,
      "outputs": [
        {
          "output_type": "display_data",
          "data": {
            "text/plain": [
              "<Figure size 800x400 with 2 Axes>"
            ],
            "image/png": "[encoded data removed]"
          },
          "metadata": {}
        }
      ]
    },
    {
      "cell_type": "markdown",
      "source": [
        "Побудувати classification_report та confusion_matrix для результатів моделі на тестовій виборці, зробити висновки;"
      ],
      "metadata": {
        "id": "ucJ3j3mlh5Qk"
      }
    },
    {
      "cell_type": "code",
      "source": [
        "# обчислення передбачуваних значень y\n",
        "predictions = model.predict(x_test)\n",
        "# перетворення векторів прогнозів на мітки класів\n",
        "y_pred = np.argmax(predictions, axis=1)"
      ],
      "metadata": {
        "colab": {
          "base_uri": "https://localhost:8080/"
        },
        "id": "gIesDsHELbNR",
        "outputId": "f293629f-048f-4456-e9bc-4154778556a6"
      },
      "execution_count": null,
      "outputs": [
        {
          "output_type": "stream",
          "name": "stdout",
          "text": [
            "313/313 [==============================] - 1s 2ms/step\n"
          ]
        }
      ]
    },
    {
      "cell_type": "code",
      "source": [
        "# матриця помилок\n",
        "confusion_matrix(y_test, y_pred)"
      ],
      "metadata": {
        "colab": {
          "base_uri": "https://localhost:8080/"
        },
        "id": "pl5U_KICLdln",
        "outputId": "7c9fec07-050f-411f-8350-58dc1936836a"
      },
      "execution_count": null,
      "outputs": [
        {
          "output_type": "execute_result",
          "data": {
            "text/plain": [
              "array([[   0,    0,    0,    0,    0,    0, 1000,    0,    0,    0],\n",
              "       [   0,    0,    0,    0,    0,    0, 1000,    0,    0,    0],\n",
              "       [   0,    0,    0,    0,    0,    0, 1000,    0,    0,    0],\n",
              "       [   0,    0,    0,    0,    0,    0, 1000,    0,    0,    0],\n",
              "       [   0,    0,    0,    0,    0,    0, 1000,    0,    0,    0],\n",
              "       [   0,    0,    0,    0,    0,    0, 1000,    0,    0,    0],\n",
              "       [   0,    0,    0,    0,    0,    0, 1000,    0,    0,    0],\n",
              "       [   0,    0,    0,    0,    0,    0, 1000,    0,    0,    0],\n",
              "       [   0,    0,    0,    0,    0,    0, 1000,    0,    0,    0],\n",
              "       [   0,    0,    0,    0,    0,    0, 1000,    0,    0,    0]])"
            ]
          },
          "metadata": {},
          "execution_count": 11
        }
      ]
    },
    {
      "cell_type": "code",
      "source": [
        "# звіт класифікації\n",
        "print(classification_report(y_test, y_pred))"
      ],
      "metadata": {
        "id": "JOSn7FEwF74E",
        "colab": {
          "base_uri": "https://localhost:8080/"
        },
        "outputId": "51a50263-3603-4594-eb61-4f688b2d877b"
      },
      "execution_count": null,
      "outputs": [
        {
          "output_type": "stream",
          "name": "stdout",
          "text": [
            "              precision    recall  f1-score   support\n",
            "\n",
            "           0       0.00      0.00      0.00      1000\n",
            "           1       0.00      0.00      0.00      1000\n",
            "           2       0.00      0.00      0.00      1000\n",
            "           3       0.00      0.00      0.00      1000\n",
            "           4       0.00      0.00      0.00      1000\n",
            "           5       0.00      0.00      0.00      1000\n",
            "           6       0.10      1.00      0.18      1000\n",
            "           7       0.00      0.00      0.00      1000\n",
            "           8       0.00      0.00      0.00      1000\n",
            "           9       0.00      0.00      0.00      1000\n",
            "\n",
            "    accuracy                           0.10     10000\n",
            "   macro avg       0.01      0.10      0.02     10000\n",
            "weighted avg       0.01      0.10      0.02     10000\n",
            "\n"
          ]
        },
        {
          "output_type": "stream",
          "name": "stderr",
          "text": [
            "/usr/local/lib/python3.10/dist-packages/sklearn/metrics/_classification.py:1344: UndefinedMetricWarning: Precision and F-score are ill-defined and being set to 0.0 in labels with no predicted samples. Use `zero_division` parameter to control this behavior.\n",
            "  _warn_prf(average, modifier, msg_start, len(result))\n",
            "/usr/local/lib/python3.10/dist-packages/sklearn/metrics/_classification.py:1344: UndefinedMetricWarning: Precision and F-score are ill-defined and being set to 0.0 in labels with no predicted samples. Use `zero_division` parameter to control this behavior.\n",
            "  _warn_prf(average, modifier, msg_start, len(result))\n",
            "/usr/local/lib/python3.10/dist-packages/sklearn/metrics/_classification.py:1344: UndefinedMetricWarning: Precision and F-score are ill-defined and being set to 0.0 in labels with no predicted samples. Use `zero_division` parameter to control this behavior.\n",
            "  _warn_prf(average, modifier, msg_start, len(result))\n"
          ]
        }
      ]
    },
    {
      "cell_type": "code",
      "source": [
        "model.summary()"
      ],
      "metadata": {
        "colab": {
          "base_uri": "https://localhost:8080/"
        },
        "id": "60XOybVkhwvH",
        "outputId": "4dd2aeb7-bd8b-402c-f5a6-7535c75e0f9d"
      },
      "execution_count": null,
      "outputs": [
        {
          "output_type": "stream",
          "name": "stdout",
          "text": [
            "Model: \"model\"\n",
            "_________________________________________________________________\n",
            " Layer (type)                Output Shape              Param #   \n",
            "=================================================================\n",
            " input_1 (InputLayer)        [(None, 32, 32, 3)]       0         \n",
            "                                                                 \n",
            " flatten (Flatten)           (None, 3072)              0         \n",
            "                                                                 \n",
            " dense (Dense)               (None, 100)               307300    \n",
            "                                                                 \n",
            " dense_1 (Dense)             (None, 100)               10100     \n",
            "                                                                 \n",
            " dense_2 (Dense)             (None, 10)                1010      \n",
            "                                                                 \n",
            "=================================================================\n",
            "Total params: 318410 (1.21 MB)\n",
            "Trainable params: 318410 (1.21 MB)\n",
            "Non-trainable params: 0 (0.00 Byte)\n",
            "_________________________________________________________________\n"
          ]
        }
      ]
    },
    {
      "cell_type": "markdown",
      "source": [
        "Порівняти розміри моделей та час їх навчання;\n",
        "1. Початкова модель - 203.814 s, 1.21 MB"
      ],
      "metadata": {
        "id": "nF_ROvuyhAw4"
      }
    }
  ]
}